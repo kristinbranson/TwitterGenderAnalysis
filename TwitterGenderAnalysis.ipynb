{
 "cells": [
  {
   "cell_type": "code",
   "execution_count": 2,
   "metadata": {},
   "outputs": [],
   "source": [
    "# Estimate the fraction of people you follow on Twitter that are female. \n",
    "# In 2020, 39% of Twitter users are female. \n",
    "# https://www.statista.com/statistics/828092/distribution-of-users-on-twitter-worldwide-gender/\n",
    "# To put this in context, estimate the same for people you follow.\n",
    "# Uses tweepy and gender_guesser packages.\n",
    "#\n",
    "# To use the Twitter API, you must create a Developer application:\n",
    "# https://apps.twitter.com/\n",
    "# Select the Create New App button and fill out the application information.\n",
    "# You will ultimately need the following pieces of information:\n",
    "#\n",
    "#    API key\n",
    "#    API secret key\n",
    "#    Access token\n",
    "#    Access token secret\n",
    "# \n",
    "# These should be stored in a CSV file that looks like:\n",
    "# API key,XXXXXXXXXXXXXXXXXXXXXXXXX\n",
    "# API secret key,XXXXXXXXXXXXXXXXXXXXXXXXXXXXXXXXXXXXXXXXXXXXXXXXXX\n",
    "# Access token,XXXXXXXXXXXXXXXXXXXXXXXXXXXXXXXXXXXXXXXXXXXXXXXXXX\n",
    "# Access token secret,XXXXXXXXXXXXXXXXXXXXXXXXXXXXXXXXXXXXXXXXXXXXX"
   ]
  },
  {
   "cell_type": "code",
   "execution_count": 3,
   "metadata": {},
   "outputs": [],
   "source": [
    "# set up environment\n",
    "import numpy as np\n",
    "import tweepy\n",
    "import matplotlib.pyplot as plt\n",
    "import gender_guesser.detector as gender\n",
    "import re\n",
    "import scipy\n",
    "import scipy.ndimage as ndimage\n",
    "import scipy.stats as stats\n",
    "import scipy.interpolate as interpolate\n",
    "import matplotlib.colors as mcolors\n",
    "import csv"
   ]
  },
  {
   "cell_type": "code",
   "execution_count": 4,
   "metadata": {},
   "outputs": [],
   "source": [
    "# set up tweepy authentication\n",
    "\n",
    "# edit authfile to point to CSV file with your Twitter application information\n",
    "authfile = 'C:/Users/bransonk/.twitter/KristinsGenderRatioAnalysis.csv'\n",
    "# edit rootusername to be your screen name on Twitter\n",
    "rootusername = 'kristinmbranson'\n",
    "\n",
    "authinfo = {}\n",
    "with open(authfile) as csvfile:\n",
    "    csvreader = csv.reader(csvfile,delimiter=',')\n",
    "    for row in csvreader:\n",
    "        authinfo[row[0]] = row[1]\n",
    "\n",
    "#print(authinfo)\n",
    "auth = tweepy.OAuthHandler(authinfo['API key'], authinfo['API secret key'])\n",
    "auth.set_access_token(authinfo['Access token'],authinfo['Access token secret'])\n",
    "api = tweepy.API(auth,wait_on_rate_limit=True,\n",
    "                 wait_on_rate_limit_notify=True)\n"
   ]
  },
  {
   "cell_type": "code",
   "execution_count": 5,
   "metadata": {},
   "outputs": [],
   "source": [
    "# gets the names and ids of followers for an input id/screen name\n",
    "def get_following_names(id,api,batchsize = 100,ids1=None):\n",
    "    if ids1 is None:\n",
    "        ids1 = api.friends_ids(id)\n",
    "    namescurr = []\n",
    "    for i0 in range(0,len(ids1),batchsize):\n",
    "        i1 = min(len(ids1),i0+batchsize)\n",
    "        user_objs = api.lookup_users(user_ids=ids1[i0:i1])\n",
    "        namescurr = namescurr + list(map(lambda x: x.name,user_objs))\n",
    "    namescurr.reverse()\n",
    "    ids1.reverse()\n",
    "    return namescurr,ids1"
   ]
  },
  {
   "cell_type": "code",
   "execution_count": 22,
   "metadata": {},
   "outputs": [],
   "source": [
    "# classifies gender of names, and computes some statistics\n",
    "def compute_gender_info(names,ids=None,verbose=False,sigma = 5):\n",
    "    # \"names\" that mean this is likely not a name\n",
    "    badnames = ['Lab','lab','The','the','Stanford','Mag','Club','Adventure','Rock','Conference','Global','HHMI','Amazon','Google','Facebook','ICLR']\n",
    "\n",
    "    # gender indicators\n",
    "    kwfemale = ['female','mostly_female']\n",
    "    kwmale = ['male','mostly_male']\n",
    "    \n",
    "    # classify gender\n",
    "    d = gender.Detector()\n",
    "    gs = []\n",
    "    firstnames = []\n",
    "    for name in names:\n",
    "        nameparts = re.split('\\s+',name)\n",
    "        if not list(filter(lambda x: x in badnames,nameparts)) == []:\n",
    "            if verbose:\n",
    "                print('%s contains name we are ignoring'%name)\n",
    "            gs.append('unknown')\n",
    "        else:\n",
    "            gs.append(d.get_gender(nameparts[0].capitalize()))\n",
    "        if verbose: print('%s -> %s -> %s'%(name,nameparts[0],gs[-1]))\n",
    "    \n",
    "    # get info for names that we could classify\n",
    "    kwknown = kwfemale + kwmale\n",
    "    isknown = list(map(lambda x: x in kwknown,gs))\n",
    "    knowngs = list(filter(lambda x: x in kwknown,gs))\n",
    "    isfemale = list(map(lambda x: x in kwfemale,knowngs))\n",
    "    ismale = list(map(lambda x: x in kwmale,knowngs))\n",
    "    if ids is not None:\n",
    "        idsknown = []\n",
    "    else:\n",
    "        idsknown = None\n",
    "    namesknown = []\n",
    "    gsknown = []\n",
    "    for i in range(len(isknown)):\n",
    "        if isknown[i]:\n",
    "            if ids is not None:\n",
    "                idsknown.append(ids[i])\n",
    "            namesknown.append(names[i])\n",
    "            gsknown.append(gs[i])\n",
    "            \n",
    "    # fraction female over time\n",
    "    num = np.cumsum(np.array(isfemale))\n",
    "    den = np.arange(len(isfemale))+1\n",
    "    fracfemale = num/den\n",
    "    fracfemale_filtered = ndimage.gaussian_filter(fracfemale,sigma,mode='nearest')\n",
    "    \n",
    "    res = {'gs': gs, 'isknown': isknown,'isfemale': isfemale,'ismale': ismale,\n",
    "           'knowngs': knowngs,'namesknown': namesknown,\n",
    "           'fracfemale': fracfemale,'fracfemale_filtered': fracfemale_filtered,\n",
    "           'names': names, 'idsknown': idsknown,'gsknown': gsknown}\n",
    "    return res\n",
    "    "
   ]
  },
  {
   "cell_type": "code",
   "execution_count": 7,
   "metadata": {},
   "outputs": [],
   "source": [
    "# chooses random samples from people you follow with at least minnfollowing people they are following\n",
    "def choose_samples_helper(idx,myinfo,api,nsample=20,minnfollowing=100,verbose=False):\n",
    "    isselected = np.zeros(idx.shape,dtype=bool)\n",
    "    idxsample = []\n",
    "    ids1 = []\n",
    "\n",
    "    while True:\n",
    "        if np.all(isselected) or len(idxsample) >= nsample:\n",
    "            break\n",
    "        idxcurr, = np.nonzero(isselected==False)\n",
    "        i = np.random.randint(0,len(idxcurr)) # indexes into idxcurr\n",
    "        i = idxcurr[i] # indexes into isselected\n",
    "        isselected[i] = True\n",
    "        i = idx[i] # indexes into myinfo\n",
    "        id = myinfo['idsknown'][i]\n",
    "        idscurr = api.friends_ids(id)\n",
    "        if verbose:\n",
    "            print('%d: selected %d (%s), nfollowing = %d'%(len(idxsample),id,\n",
    "                                                           myinfo['namesknown'][i],\n",
    "                                                           len(idscurr)))\n",
    "        if len(idscurr) >= minnfollowing:\n",
    "            print('Adding')\n",
    "            idxsample.append(i)\n",
    "            ids1.append(idscurr)\n",
    "    return (idxsample,ids1)\n",
    "\n",
    "def choose_samples(myinfo,nsample=20,minnfollowing=100,verbose=False):\n",
    "    \n",
    "    isfemale = np.array(myinfo['isfemale'])\n",
    "    idxfemale, = np.nonzero(isfemale)\n",
    "    idxmale, = np.nonzero(isfemale==False)\n",
    "\n",
    "    idxsample_female,ids1_female = \\\n",
    "        choose_samples_helper(idxfemale,myinfo,api,nsample=nsample,minnfollowing=minnfollowing,verbose=verbose)\n",
    "    idxsample_male,ids1_male = \\\n",
    "        choose_samples_helper(idxmale,myinfo,api,nsample=nsample,minnfollowing=minnfollowing,verbose=verbose)\n",
    "\n",
    "    nsample_female = len(idxsample_female)\n",
    "    nsample_male = len(idxsample_male)\n",
    "    ids1 = ids1_female + ids1_male\n",
    "    idxsample = idxsample_female + idxsample_male\n",
    "    \n",
    "    return idxsample,ids1,nsample_female,nsample_male\n",
    "    "
   ]
  },
  {
   "cell_type": "code",
   "execution_count": 114,
   "metadata": {},
   "outputs": [],
   "source": [
    "def get_tweets(screen_name,maxntweets=np.Inf):\n",
    "    statuses = []\n",
    "    ntweets = 0\n",
    "    for status in tweepy.Cursor(api.user_timeline,screen_name,include_rts=True).items():\n",
    "        statuses.append(status)\n",
    "        ntweets += 1\n",
    "        if ntweets >= maxntweets:\n",
    "            break\n",
    "            \n",
    "    statuses.reverse()\n",
    "    return statuses\n",
    "\n",
    "def get_retweet_names(statuses,verbose=False):\n",
    "    \n",
    "    retweet_names = []\n",
    "    retweet_types = []\n",
    "    isretweet = np.zeros(len(statuses))==0\n",
    "    \n",
    "    for i in range(len(statuses)):\n",
    "        status = statuses[i]\n",
    "\n",
    "        if hasattr(status,'is_quote_status') and status.is_quote_status and \\\n",
    "        hasattr(status,'quoted_status'):\n",
    "            name = status.quoted_status.author.name\n",
    "            retweet_names.append(name)\n",
    "            retweet_types.append('quote')\n",
    "            if verbose:\n",
    "                print('%d: quote %s'%(i,name))\n",
    "        elif hasattr(status,'retweeted_status'):\n",
    "            name = status.retweeted_status.author.name\n",
    "            retweet_names.append(name)\n",
    "            retweet_types.append('retweet')\n",
    "            if verbose:\n",
    "                print('%d: retweet %s'%(i,name))\n",
    "        elif hasattr(status,'in_reply_to_screen_name') and \\\n",
    "        status.in_reply_to_screen_name is not None:\n",
    "            if status.in_reply_to_screen_name.lower() == rootusername.lower():\n",
    "                if verbose:\n",
    "                    print('%d: reply to own tweet'%i)\n",
    "            else:\n",
    "                in_reply_to_name = None\n",
    "                for u in status.entities['user_mentions']:\n",
    "                    if(u['screen_name'].lower() == status.in_reply_to_screen_name.lower()):\n",
    "                        in_reply_to_name = u['name']\n",
    "                        break\n",
    "                if in_reply_to_name == None:\n",
    "                    isretweet[i] = False\n",
    "                    if verbose:\n",
    "                        print('%d: reply to ??'%i)\n",
    "                else:\n",
    "                    retweet_names.append(in_reply_to_name)\n",
    "                    retweet_types.append('reply')\n",
    "                    if verbose:\n",
    "                        print('%d: reply %s'%(i,in_reply_to_name))\n",
    "        else:\n",
    "            isretweet[i] = False\n",
    "            if verbose:\n",
    "                print('%d: ??'%i)\n",
    "                print(status.text)\n",
    "                \n",
    "    return (retweet_names,retweet_types,isretweet)\n",
    "\n",
    "def get_favs(screen_name=None,user_id=None,maxnfavs=np.Inf):\n",
    "    favs = []\n",
    "    nfavs = 0\n",
    "    if screen_name is None:\n",
    "        for fav in tweepy.Cursor(api.favorites,user_id=user_id).items():\n",
    "            favs.append(fav)\n",
    "            nfavs += 1\n",
    "            if nfavs >= maxnfavs:\n",
    "                break\n",
    "    else:    \n",
    "        for fav in tweepy.Cursor(api.favorites,screen_name).items():\n",
    "            favs.append(fav)\n",
    "            nfavs += 1\n",
    "            if nfavs >= maxnfavs:\n",
    "                break\n",
    "            \n",
    "    favs.reverse()\n",
    "    return favs\n",
    "\n",
    "def get_fav_names(favs,verbose=False):\n",
    "    \n",
    "    fav_names = []\n",
    "    \n",
    "    for i in range(len(favs)):\n",
    "        fav = favs[i]\n",
    "        fav_names.append(fav.user.name)\n",
    "\n",
    "    return fav_names\n"
   ]
  },
  {
   "cell_type": "code",
   "execution_count": 68,
   "metadata": {},
   "outputs": [],
   "source": [
    "# load data from file\n",
    "\n",
    "import pickle\n",
    "filename = 'C:/Code/TwitterGenderRatio/test20200510.pickle'\n",
    "fid = open(filename,'rb')\n",
    "res = pickle.load(fid)\n",
    "fid.close()\n",
    "\n",
    "ids = res['ids']\n",
    "names = res['names']\n",
    "idxsample = res['idxsample']\n",
    "names1 = res['names1']\n",
    "ids1 = res['ids1']\n",
    "nsample_female = len(idxsample)//2"
   ]
  },
  {
   "cell_type": "code",
   "execution_count": 9,
   "metadata": {},
   "outputs": [
    {
     "name": "stdout",
     "output_type": "stream",
     "text": [
      "Number following: 488\n"
     ]
    }
   ],
   "source": [
    "# get names & ids of people I follow\n",
    "names,ids = get_following_names(rootusername,api)\n",
    "print('Number following: %d'%len(names))"
   ]
  },
  {
   "cell_type": "code",
   "execution_count": 10,
   "metadata": {},
   "outputs": [
    {
     "name": "stdout",
     "output_type": "stream",
     "text": [
      "Fraction of people I follow who are female: 0.485030\n"
     ]
    },
    {
     "data": {
      "text/plain": [
       "Text(0, 0.5, 'Fraction female')"
      ]
     },
     "execution_count": 10,
     "metadata": {},
     "output_type": "execute_result"
    },
    {
     "data": {
      "image/png": "[encoded data removed]",
      "text/plain": [
       "<Figure size 432x288 with 1 Axes>"
      ]
     },
     "metadata": {
      "needs_background": "light"
     },
     "output_type": "display_data"
    }
   ],
   "source": [
    "# classify gender based on first name\n",
    "sigma = 5\n",
    "myinfo = compute_gender_info(names,ids,verbose=False,sigma=sigma)\n",
    "print('Fraction of people I follow who are female: %f'%myinfo['fracfemale'][-1])\n",
    "\n",
    "# plot fraction female\n",
    "plt.plot(myinfo['fracfemale_filtered'][5*sigma:-5*sigma])\n",
    "plt.xlabel('Something related to time')\n",
    "plt.ylabel('Fraction female')\n"
   ]
  },
  {
   "cell_type": "code",
   "execution_count": 147,
   "metadata": {},
   "outputs": [],
   "source": [
    "# choose some colors\n",
    "colors = list(mcolors.TABLEAU_COLORS)\n",
    "colorf = colors[0]\n",
    "colorm = colors[1]\n",
    "colorretweet = colors[2]\n",
    "colorfav = colors[4]"
   ]
  },
  {
   "cell_type": "code",
   "execution_count": 151,
   "metadata": {},
   "outputs": [
    {
     "name": "stdout",
     "output_type": "stream",
     "text": [
      "Fraction of statuses Ive retweeted from women: 0.304878\n",
      "Fraction of statuses Ive favorited from women: 0.301310\n"
     ]
    },
    {
     "data": {
      "text/plain": [
       "Text(0.5, 1.0, \"Statuses I've favorited and retweeted\")"
      ]
     },
     "execution_count": 151,
     "metadata": {},
     "output_type": "execute_result"
    },
    {
     "data": {
      "image/png": "[encoded data removed]",
      "text/plain": [
       "<Figure size 432x288 with 1 Axes>"
      ]
     },
     "metadata": {
      "needs_background": "light"
     },
     "output_type": "display_data"
    }
   ],
   "source": [
    "# look at gender ratio for people I retweet\n",
    "\n",
    "maxntweets = 400\n",
    "maxnfavs = 400\n",
    "mystatuses = get_tweets(rootusername,maxntweets=maxntweets)\n",
    "myretweetnames,myretweettypes,myisretweet = get_retweet_names(mystatuses,verbose=False)\n",
    "myretweetinfo = compute_gender_info(myretweetnames,verbose=False,sigma=2)\n",
    "\n",
    "myfavs = get_favs(screen_name=rootusername,maxnfavs=maxnfavs)\n",
    "myfavnames = get_fav_names(myfavs)\n",
    "myfavinfo = compute_gender_info(myfavnames,verbose=False,sigma=2)\n",
    "\n",
    "print('Fraction of statuses I\\'ve retweeted from women: %f'%myretweetinfo['fracfemale'][-1])\n",
    "print('Fraction of statuses I\\'ve favorited from women: %f'%myfavinfo['fracfemale'][-1])\n",
    "\n",
    "# plot fraction female\n",
    "\n",
    "plt.plot(myretweetinfo['fracfemale_filtered'],label='Retweet',color=colorretweet)\n",
    "plt.plot(myfavinfo['fracfemale_filtered'],':',label='Favorite',color=colorfav)\n",
    "\n",
    "plt.xlabel('Something related to time')\n",
    "plt.ylabel('Fraction female')\n",
    "plt.legend()\n",
    "plt.title('Statuses I\\'ve favorited and retweeted')\n"
   ]
  },
  {
   "cell_type": "code",
   "execution_count": 8,
   "metadata": {},
   "outputs": [
    {
     "name": "stdout",
     "output_type": "stream",
     "text": [
      "0: selected 207665930 (Serena Yeung), nfollowing = 120\n",
      "Adding\n",
      "1: selected 1359059238 (Dima Damen), nfollowing = 341\n",
      "Adding\n",
      "2: selected 19563103 (Gwen Pearson), nfollowing = 841\n",
      "Adding\n",
      "3: selected 1890694861 (Rose Yu), nfollowing = 294\n",
      "Adding\n",
      "4: selected 731538535795163136 (Sara Hooker), nfollowing = 1682\n",
      "Adding\n",
      "5: selected 737478121079906304 (Judith MitraniReiser), nfollowing = 676\n",
      "Adding\n",
      "6: selected 178588367 (Karla Kaun), nfollowing = 839\n",
      "Adding\n",
      "7: selected 345129453 (Nan Rosemary Ke), nfollowing = 338\n",
      "Adding\n",
      "8: selected 35269421 (Ellie Heckscher), nfollowing = 516\n",
      "Adding\n",
      "9: selected 2369329526 (Ulrike Boehm 🔬👩🏻‍💻), nfollowing = 286\n",
      "Adding\n",
      "10: selected 1135303672219545600 (Marcella Noorman), nfollowing = 45\n",
      "10: selected 2577596593 (Chelsea Finn), nfollowing = 244\n",
      "Adding\n",
      "11: selected 217852227 (Elizabeth C. Gorski), nfollowing = 630\n",
      "Adding\n"
     ]
    },
    {
     "name": "stderr",
     "output_type": "stream",
     "text": [
      "Rate limit reached. Sleeping for: 871\n"
     ]
    },
    {
     "name": "stdout",
     "output_type": "stream",
     "text": [
      "12: selected 1237734334385344512 (Mai Morimoto), nfollowing = 173\n",
      "Adding\n",
      "13: selected 3318332379 (Ilana Witten), nfollowing = 602\n",
      "Adding\n",
      "14: selected 1431348835 (Anne Carpenter), nfollowing = 1117\n",
      "Adding\n",
      "15: selected 1237147828704575488 (Sara Beery), nfollowing = 759\n",
      "Adding\n",
      "16: selected 36819554 (Megan Carey), nfollowing = 933\n",
      "Adding\n",
      "17: selected 22385548 (Jane Wang), nfollowing = 339\n",
      "Adding\n",
      "18: selected 908902292 (Marta Costa), nfollowing = 207\n",
      "Adding\n",
      "19: selected 875432666555965444 (Krystyna Keleman), nfollowing = 213\n",
      "Adding\n",
      "20: selected 3072541911 (Stephanie Albin), nfollowing = 498\n",
      "Adding\n",
      "21: selected 788467623629500416 (Doris Tsao), nfollowing = 252\n",
      "Adding\n",
      "22: selected 2389878942 (Emily Behrman), nfollowing = 340\n",
      "Adding\n",
      "23: selected 950751996084150272 (Larissa Heinrich), nfollowing = 86\n",
      "23: selected 843706252517502977 (Christine Käser-Chen), nfollowing = 184\n",
      "Adding\n",
      "24: selected 45675087 (Devi Parikh), nfollowing = 125\n",
      "Adding\n",
      "25: selected 2704715387 (Jen Heemstra), nfollowing = 5000\n",
      "Adding\n",
      "26: selected 246226577 (Salma Elmalaki), nfollowing = 132\n",
      "Adding\n"
     ]
    },
    {
     "name": "stderr",
     "output_type": "stream",
     "text": [
      "Rate limit reached. Sleeping for: 897\n"
     ]
    },
    {
     "name": "stdout",
     "output_type": "stream",
     "text": [
      "27: selected 305092591 (Emma Brunskill), nfollowing = 52\n",
      "27: selected 43406294 (renan ozturk), nfollowing = 176\n",
      "Adding\n",
      "28: selected 19087450 (Edith Zimmerman), nfollowing = 989\n",
      "Adding\n",
      "29: selected 215113195 (Naomi Saphra), nfollowing = 1011\n",
      "Adding\n",
      "30: selected 979697205664800768 (Elizabeth Hillman), nfollowing = 815\n",
      "Adding\n",
      "31: selected 959028649528840192 (Virginie Uhlmann), nfollowing = 159\n",
      "Adding\n",
      "32: selected 870108900128903169 (Claire Deo), nfollowing = 285\n",
      "Adding\n",
      "33: selected 2405083879 (eugenia chiappe), nfollowing = 422\n",
      "Adding\n",
      "34: selected 25320089 (Grace Vesom), nfollowing = 387\n",
      "Adding\n",
      "35: selected 16520284 (Alice Oh), nfollowing = 436\n",
      "Adding\n",
      "36: selected 748267272939020293 (Laura Leal-Taixe), nfollowing = 60\n",
      "36: selected 2172505322 (Kathryn Brown), nfollowing = 27\n",
      "36: selected 535136727 (Dawn Song), nfollowing = 704\n",
      "Adding\n",
      "37: selected 842164502422417409 (Adrienne Fairhall), nfollowing = 276\n",
      "Adding\n",
      "38: selected 16017475 (Nate Silver), nfollowing = 1288\n",
      "Adding\n"
     ]
    },
    {
     "name": "stderr",
     "output_type": "stream",
     "text": [
      "Rate limit reached. Sleeping for: 896\n"
     ]
    },
    {
     "name": "stdout",
     "output_type": "stream",
     "text": [
      "39: selected 159315527 (Jewel Burks Solomon), nfollowing = 3858\n",
      "Adding\n",
      "40: selected 822090549490499585 (Nadine Gogolla), nfollowing = 749\n",
      "Adding\n",
      "41: selected 28912478 (Leslie Vosshall PhD), nfollowing = 497\n",
      "Adding\n",
      "42: selected 925800751628279808 (Nan Jiang), nfollowing = 46\n",
      "42: selected 1235552122957115394 (Carolina Wählby), nfollowing = 0\n",
      "42: selected 869862586610851840 (Jeannette Bohg), nfollowing = 254\n",
      "Adding\n",
      "43: selected 700532262165676033 (Sarah Certel), nfollowing = 247\n",
      "Adding\n",
      "44: selected 21828411 (Erin LeDell), nfollowing = 4995\n",
      "Adding\n",
      "45: selected 2869101210 (Jenn Wortman Vaughan), nfollowing = 354\n",
      "Adding\n",
      "46: selected 1143074659291680768 (Ann Kennedy), nfollowing = 169\n",
      "Adding\n",
      "47: selected 2460047754 (Janelle Shane), nfollowing = 885\n",
      "Adding\n",
      "48: selected 543919023 (Martha White), nfollowing = 52\n",
      "48: selected 276643081 (Cori Bargmann), nfollowing = 732\n",
      "Adding\n",
      "49: selected 1035389878605885440 (Athena Akrami), nfollowing = 356\n",
      "Adding\n"
     ]
    },
    {
     "name": "stderr",
     "output_type": "stream",
     "text": [
      "Rate limit reached. Sleeping for: 896\n"
     ]
    },
    {
     "name": "stdout",
     "output_type": "stream",
     "text": [
      "0: selected 14986849 (Alex Smola), nfollowing = 67\n",
      "0: selected 828056721750896640 (mark cembrowski), nfollowing = 404\n",
      "Adding\n",
      "1: selected 29843511 (Nando de Freitas), nfollowing = 358\n",
      "Adding\n",
      "2: selected 261789755 (jeremy freeman), nfollowing = 1572\n",
      "Adding\n",
      "3: selected 791306523062497280 (Wyatt Korff), nfollowing = 13\n",
      "3: selected 234270825 (Ken Jennings), nfollowing = 551\n",
      "Adding\n",
      "4: selected 190138220 (Jonathan Pillow), nfollowing = 1153\n",
      "Adding\n",
      "5: selected 27648853 (Peter), nfollowing = 1018\n",
      "Adding\n",
      "6: selected 433741920 (Marius Pachitariu), nfollowing = 1008\n",
      "Adding\n",
      "7: selected 769978990706720768 (Raphael Turcotte), nfollowing = 161\n",
      "Adding\n",
      "8: selected 780291008 (karel svoboda), nfollowing = 226\n",
      "Adding\n",
      "9: selected 1033383109440356352 (Oisin Mac Aodha), nfollowing = 326\n",
      "Adding\n",
      "10: selected 128781736 (Sasha DiGiulian), nfollowing = 620\n",
      "Adding\n",
      "11: selected 1014691 (David Cho), nfollowing = 593\n",
      "Adding\n",
      "12: selected 1150552125065355264 (Jan Funke), nfollowing = 55\n",
      "12: selected 18098674 (Brendan Quigley), nfollowing = 79\n"
     ]
    },
    {
     "name": "stderr",
     "output_type": "stream",
     "text": [
      "Rate limit reached. Sleeping for: 896\n"
     ]
    },
    {
     "name": "stdout",
     "output_type": "stream",
     "text": [
      "12: selected 1193222240202035200 (Andrew Saxe), nfollowing = 186\n",
      "Adding\n",
      "13: selected 197684961 (Misha Denil), nfollowing = 952\n",
      "Adding\n",
      "14: selected 48008938 (Yann LeCun), nfollowing = 282\n",
      "Adding\n",
      "15: selected 911297187664949248 (Jeff Dean (@🏡)), nfollowing = 3100\n",
      "Adding\n",
      "16: selected 172101003 (Greg Jefferis), nfollowing = 783\n",
      "Adding\n",
      "17: selected 1242216846033473537 (Manuel Mohr), nfollowing = 59\n",
      "17: selected 56786888 (Martin Jones), nfollowing = 3935\n",
      "Adding\n",
      "18: selected 636023721 (Adam J Calhoun), nfollowing = 1026\n",
      "Adding\n",
      "19: selected 919035620 (Matthieu Louis), nfollowing = 35\n",
      "19: selected 53514472 (Andrew Fitzgibbon), nfollowing = 461\n",
      "Adding\n",
      "20: selected 19301221 (Andrew S. Champion), nfollowing = 248\n",
      "Adding\n",
      "21: selected 50393960 (Bill Gates), nfollowing = 218\n",
      "Adding\n",
      "22: selected 149895490 (Gonzalo de Polavieja), nfollowing = 1046\n",
      "Adding\n",
      "23: selected 3333052551 (Hugo Larochelle), nfollowing = 527\n",
      "Adding\n",
      "24: selected 1026931440280391687 (Kaspar Podgorski), nfollowing = 203\n",
      "Adding\n"
     ]
    },
    {
     "name": "stderr",
     "output_type": "stream",
     "text": [
      "Rate limit reached. Sleeping for: 896\n"
     ]
    },
    {
     "name": "stdout",
     "output_type": "stream",
     "text": [
      "25: selected 3111733301 (Daniel Gonzales), nfollowing = 926\n",
      "Adding\n",
      "26: selected 1400517288 (Sandeep Robert Datta), nfollowing = 802\n",
      "Adding\n",
      "27: selected 938416059962609665 (Mike Economo), nfollowing = 578\n",
      "Adding\n",
      "28: selected 223734352 (Matt Gritzmacher), nfollowing = 531\n",
      "Adding\n",
      "29: selected 16055364 (Il Memming Park), nfollowing = 1612\n",
      "Adding\n",
      "30: selected 3192303453 (Andreas Kay), nfollowing = 10\n",
      "30: selected 51582812 (Stephen Holtz), nfollowing = 827\n",
      "Adding\n",
      "31: selected 813286 (Barack Obama), nfollowing = 5000\n",
      "Adding\n",
      "32: selected 14348594 (John Hodgman), nfollowing = 3860\n",
      "Adding\n",
      "33: selected 2848165007 (John Bogovic), nfollowing = 463\n",
      "Adding\n",
      "34: selected 122080635 (Sebastian Seung), nfollowing = 292\n",
      "Adding\n",
      "35: selected 15035863 (Noah Snavely), nfollowing = 378\n",
      "Adding\n",
      "36: selected 1210596212140892160 (John Langford), nfollowing = 21\n",
      "36: selected 19767193 (Ed Yong), nfollowing = 1674\n",
      "Adding\n"
     ]
    },
    {
     "name": "stderr",
     "output_type": "stream",
     "text": [
      "Rate limit reached. Sleeping for: 897\n"
     ]
    },
    {
     "name": "stdout",
     "output_type": "stream",
     "text": [
      "37: selected 314158631 (Erich Jarvis), nfollowing = 371\n",
      "Adding\n",
      "38: selected 14230012 (Rex Parker⚾️🐘🐘🐘⚾️), nfollowing = 359\n",
      "Adding\n",
      "39: selected 1173981576046227457 (David E. Clapham), nfollowing = 6\n",
      "39: selected 930090512 (Stephan Saalfeld), nfollowing = 154\n",
      "Adding\n",
      "40: selected 31936449 (Lior Pachter), nfollowing = 1287\n",
      "Adding\n",
      "41: selected 33362653 (Trace Henry), nfollowing = 2653\n",
      "Adding\n",
      "42: selected 14162415 (Ryan North), nfollowing = 897\n",
      "Adding\n",
      "43: selected 221304470 (David Schoppik), nfollowing = 1015\n",
      "Adding\n",
      "44: selected 430783446 (Michael Chabon), nfollowing = 38\n",
      "44: selected 809072402282016768 (Daniel Jiwoong Im), nfollowing = 509\n",
      "Adding\n",
      "45: selected 2847954257 (Frank), nfollowing = 145\n",
      "Adding\n",
      "46: selected 29905013 (Peter Gordon), nfollowing = 28\n",
      "46: selected 4558314927 (Sasha Rush), nfollowing = 325\n",
      "Adding\n",
      "47: selected 946827254901936130 (Davis Bennett), nfollowing = 77\n",
      "47: selected 22445339 (Fred \"Replace Trump Now\" Wolf), nfollowing = 408\n",
      "Adding\n",
      "48: selected 2835683058 (Silvio Savarese), nfollowing = 28\n"
     ]
    },
    {
     "name": "stderr",
     "output_type": "stream",
     "text": [
      "Rate limit reached. Sleeping for: 896\n"
     ]
    },
    {
     "name": "stdout",
     "output_type": "stream",
     "text": [
      "48: selected 57663013 (Jesse Marshall), nfollowing = 191\n",
      "Adding\n",
      "49: selected 259568572 (Benjamin de Bivort), nfollowing = 1031\n",
      "Adding\n"
     ]
    }
   ],
   "source": [
    "# choose some random following\n",
    "nsample = 50\n",
    "minnfollowing = 100\n",
    "idxsample,ids1,nsample_female,nsample_male = \\\n",
    "    choose_samples(myinfo,nsample=nsample,minnfollowing=minnfollowing,verbose=True)\n",
    "\n",
    "assert nsample==nsample_female and nsample==nsample_male,'Did not find enough samples with minnfollowing = %d'%minnfollowing"
   ]
  },
  {
   "cell_type": "code",
   "execution_count": 47,
   "metadata": {},
   "outputs": [
    {
     "name": "stdout",
     "output_type": "stream",
     "text": [
      "Female samples:\n",
      "['Jeannette Bohg', 'Laura Leal-Taixe', 'Naomi Saphra', 'Bill Gates', 'Nan Rosemary Ke', 'Judith MitraniReiser', 'Karla Kaun', 'Martha White', 'Davis Bennett', 'Allan Wong', 'John Hodgman', 'Elizabeth C. Gorski', 'Ellie Heckscher', 'Athena Akrami', 'Anne Carpenter', 'Barack Obama', 'Alex Wild', 'Jane Wang', 'Sara Beery', 'Adam L. Taylor', 'Chris Potter', 'Sasha Rush', 'Eric Schreiter', 'Alex Smola', 'Edith Zimmerman', 'Jen Heemstra', 'Elena Rivas', 'Tommy Caldwell', 'David Cho', 'Ted Pedersen', 'Elijah Cole', 'Martin Jones', 'Mike Economo', 'Andrew S. Champion', 'Grace Vesom', 'Rachel Thomas', 'Shakir Mohamed', 'Matt Gritzmacher', 'Erich Jarvis', 'Jewel Burks Solomon', 'Serena Yeung', 'Kay M Tye', 'Silvio Savarese', 'Sarah Certel', 'Matthieu Louis', 'Tessa Montague', 'Krystyna Keleman', 'Sara Hooker', 'Sebastian Seung', 'Noah Snavely']\n",
      "Male samples:\n",
      "['Stephanie Albin', 'Nando de Freitas', 'Jim Keeley', 'Doris Tsao', 'Surya Ganguli', 'karel svoboda', 'Misha Ahrens', 'Marius Pachitariu', 'Nelson Spruston', 'Ilana Witten', 'Nicholas Turner', 'Hanna Wallach', 'Caroline Palavicino-Maggio PhD', 'Misha Denil', 'Yann LeCun', 'Jeff Dean (@🏡)', 'Fernanda Viégas', 'Jakob Macke', 'Adam J Calhoun', 'Andrew Fitzgibbon', 'Virginie Uhlmann', 'Andrew Saxe', 'Alice Oh', 'Hugo Larochelle', 'Ed Yong', 'Philipp Hanslovsky', 'Sandeep Robert Datta', 'mark cembrowski', 'Gonzalo de Polavieja', 'Andrew Straw', 'Andreas Kay', 'Elizabeth Hillman', 'Christine Käser-Chen', 'John Bogovic', 'Leslie Vosshall PhD', 'Marcella Noorman', 'Adrienne Fairhall', 'Carlos Ribeiro', 'Rex Parker⚾️🐘🐘🐘⚾️', 'Stephan Saalfeld', 'Janelle Shane', 'Jan M Ache', 'John Langford', 'Fred \"Replace Trump Now\" Wolf', 'Juan Carlos Niebles', 'Rose Yu', 'Lior Pachter', 'David Sussillo 🏡💻🤞🤓', 'Ann Kennedy', 'Benjamin de Bivort']\n"
     ]
    }
   ],
   "source": [
    "sampleids = list(map(lambda x: myinfo['idsknown'][x],idxsample))\n",
    "samplenames = list(map(lambda x: myinfo['namesknown'][x],idxsample))\n",
    "print('Female samples:')\n",
    "print(samplenames[:nsample_female])\n",
    "print('Male samples:')\n",
    "print(samplenames[nsample_female:])"
   ]
  },
  {
   "cell_type": "code",
   "execution_count": 10,
   "metadata": {},
   "outputs": [
    {
     "name": "stdout",
     "output_type": "stream",
     "text": [
      "samplei = 0, sample = 152, id = 207665930\n",
      "samplei = 1, sample = 200, id = 1359059238\n",
      "samplei = 2, sample = 194, id = 19563103\n",
      "samplei = 3, sample = 167, id = 1890694861\n",
      "samplei = 4, sample = 182, id = 731538535795163136\n",
      "samplei = 5, sample = 15, id = 737478121079906304\n",
      "samplei = 6, sample = 19, id = 178588367\n",
      "samplei = 7, sample = 183, id = 345129453\n",
      "samplei = 8, sample = 174, id = 35269421\n",
      "samplei = 9, sample = 118, id = 2369329526\n",
      "samplei = 10, sample = 92, id = 2577596593\n",
      "samplei = 11, sample = 31, id = 217852227\n",
      "samplei = 12, sample = 173, id = 1237734334385344512\n",
      "samplei = 13, sample = 87, id = 3318332379\n",
      "samplei = 14, sample = 4, id = 1431348835\n",
      "samplei = 15, sample = 156, id = 1237147828704575488\n",
      "samplei = 16, sample = 192, id = 36819554\n",
      "samplei = 17, sample = 27, id = 22385548\n",
      "samplei = 18, sample = 155, id = 908902292\n",
      "samplei = 19, sample = 73, id = 875432666555965444\n",
      "samplei = 20, sample = 124, id = 3072541911\n",
      "samplei = 21, sample = 178, id = 788467623629500416\n",
      "samplei = 22, sample = 126, id = 2389878942\n",
      "samplei = 23, sample = 94, id = 843706252517502977\n",
      "samplei = 24, sample = 105, id = 45675087\n",
      "samplei = 25, sample = 20, id = 2704715387\n",
      "samplei = 26, sample = 115, id = 246226577\n",
      "samplei = 27, sample = 197, id = 43406294\n",
      "samplei = 28, sample = 106, id = 19087450\n",
      "samplei = 29, sample = 195, id = 215113195\n",
      "samplei = 30, sample = 158, id = 979697205664800768\n",
      "samplei = 31, sample = 52, id = 959028649528840192\n",
      "samplei = 32, sample = 121, id = 870108900128903169\n",
      "samplei = 33, sample = 50, id = 2405083879\n",
      "samplei = 34, sample = 23, id = 25320089\n",
      "samplei = 35, sample = 146, id = 16520284\n",
      "samplei = 36, sample = 185, id = 535136727\n",
      "samplei = 37, sample = 143, id = 842164502422417409\n",
      "samplei = 38, sample = 83, id = 16017475\n",
      "samplei = 39, sample = 13, id = 159315527\n",
      "samplei = 40, sample = 151, id = 822090549490499585\n",
      "samplei = 41, sample = 67, id = 28912478\n",
      "samplei = 42, sample = 153, id = 869862586610851840\n",
      "samplei = 43, sample = 37, id = 700532262165676033\n",
      "samplei = 44, sample = 148, id = 21828411\n",
      "samplei = 45, sample = 111, id = 2869101210\n",
      "samplei = 46, sample = 72, id = 1143074659291680768\n",
      "samplei = 47, sample = 181, id = 2460047754\n",
      "samplei = 48, sample = 65, id = 276643081\n",
      "samplei = 49, sample = 88, id = 1035389878605885440\n",
      "samplei = 50, sample = 123, id = 828056721750896640\n",
      "samplei = 51, sample = 36, id = 29843511\n",
      "samplei = 52, sample = 138, id = 261789755\n",
      "samplei = 53, sample = 177, id = 234270825\n",
      "samplei = 54, sample = 56, id = 190138220\n",
      "samplei = 55, sample = 132, id = 27648853\n",
      "samplei = 56, sample = 130, id = 433741920\n",
      "samplei = 57, sample = 129, id = 769978990706720768\n",
      "samplei = 58, sample = 133, id = 780291008\n",
      "samplei = 59, sample = 86, id = 1033383109440356352\n",
      "samplei = 60, sample = 164, id = 128781736\n",
      "samplei = 61, sample = 107, id = 1014691\n",
      "samplei = 62, sample = 169, id = 1193222240202035200\n",
      "samplei = 63, sample = 33, id = 197684961\n",
      "samplei = 64, sample = 0, id = 48008938\n",
      "samplei = 65, sample = 10, id = 911297187664949248\n",
      "samplei = 66, sample = 60, id = 172101003\n",
      "samplei = 67, sample = 53, id = 56786888\n",
      "samplei = 68, sample = 22, id = 636023721\n",
      "samplei = 69, sample = 12, id = 53514472\n",
      "samplei = 70, sample = 51, id = 19301221\n",
      "samplei = 71, sample = 168, id = 50393960\n",
      "samplei = 72, sample = 145, id = 149895490\n",
      "samplei = 73, sample = 35, id = 3333052551\n",
      "samplei = 74, sample = 141, id = 1026931440280391687\n",
      "samplei = 75, sample = 101, id = 3111733301\n",
      "samplei = 76, sample = 41, id = 1400517288\n",
      "samplei = 77, sample = 122, id = 938416059962609665\n",
      "samplei = 78, sample = 144, id = 223734352\n",
      "samplei = 79, sample = 58, id = 16055364\n",
      "samplei = 80, sample = 188, id = 51582812\n",
      "samplei = 81, sample = 157, id = 813286\n",
      "samplei = 82, sample = 93, id = 14348594\n",
      "samplei = 83, sample = 43, id = 2848165007\n",
      "samplei = 84, sample = 66, id = 122080635\n",
      "samplei = 85, sample = 89, id = 15035863\n",
      "samplei = 86, sample = 142, id = 19767193\n",
      "samplei = 87, sample = 84, id = 314158631\n",
      "samplei = 88, sample = 30, id = 14230012\n",
      "samplei = 89, sample = 38, id = 930090512\n",
      "samplei = 90, sample = 180, id = 31936449\n",
      "samplei = 91, sample = 69, id = 33362653\n",
      "samplei = 92, sample = 79, id = 14162415\n",
      "samplei = 93, sample = 76, id = 221304470\n",
      "samplei = 94, sample = 190, id = 809072402282016768\n",
      "samplei = 95, sample = 166, id = 2847954257\n",
      "samplei = 96, sample = 179, id = 4558314927\n",
      "samplei = 97, sample = 77, id = 22445339\n",
      "samplei = 98, sample = 71, id = 57663013\n",
      "samplei = 99, sample = 25, id = 259568572\n"
     ]
    }
   ],
   "source": [
    "# get names of their following\n",
    "batchsize = 100\n",
    "names1 = []\n",
    "for samplei in range(len(names1),len(idxsample)):\n",
    "    sample = idxsample[samplei]\n",
    "    id = myinfo['idsknown'][sample]\n",
    "    print('samplei = %d, sample = %d, id = %d'%(samplei,sample,id))\n",
    "    namescurr,idscurr = get_following_names(id,api,ids1=ids1[samplei])\n",
    "    names1.append(namescurr)\n",
    "    ids1.append(idscurr)\n"
   ]
  },
  {
   "cell_type": "code",
   "execution_count": 49,
   "metadata": {},
   "outputs": [],
   "source": [
    "# compute gender ratio info\n",
    "otherinfo = []\n",
    "for i in range(len(names1)):\n",
    "    #print('i = %d: %s -> first name = %s'%(i,sample_user_objs[i].name,names1[i][0]))\n",
    "    otherinfo.append(compute_gender_info(names1[i],ids=ids1[i],verbose=False,sigma=sigma))\n",
    "    "
   ]
  },
  {
   "cell_type": "code",
   "execution_count": 150,
   "metadata": {},
   "outputs": [
    {
     "name": "stdout",
     "output_type": "stream",
     "text": [
      "My percentile among women I follow: 86.000000\n",
      "My percentile among men I follow: 92.000000\n",
      "My percentile among people I follow: 89.000000\n"
     ]
    },
    {
     "data": {
      "text/plain": [
       "MannwhitneyuResult(statistic=1463.0, pvalue=0.07146909115821613)"
      ]
     },
     "execution_count": 150,
     "metadata": {},
     "output_type": "execute_result"
    },
    {
     "data": {
      "image/png": "[encoded data removed]",
      "text/plain": [
       "<Figure size 432x288 with 1 Axes>"
      ]
     },
     "metadata": {
      "needs_background": "light"
     },
     "output_type": "display_data"
    }
   ],
   "source": [
    "# plot a histogram of frac female following for samples and for me\n",
    "nbins = 25\n",
    "\n",
    "fracfemale_f = np.zeros(nsample_female)\n",
    "fracfemale_m = np.zeros(nsample_female)\n",
    "for i in range(nsample_female):\n",
    "    if len(otherinfo[i]['fracfemale']) == 0:\n",
    "        fracfemale_f[i] = np.nan\n",
    "        print('Bad sample %d'%i)\n",
    "    else:\n",
    "        fracfemale_f[i] = otherinfo[i]['fracfemale'][-1]\n",
    "    if len(otherinfo[i+nsample_female]['fracfemale']) == 0:\n",
    "        fracfemale_m[i] = np.nan\n",
    "        print('Bad sample %d'%i+nsample_female)\n",
    "    else:\n",
    "        fracfemale_m[i] = otherinfo[i+nsample_female]['fracfemale'][-1]\n",
    "\n",
    "myprctile_f = np.count_nonzero(fracfemale_f<=myinfo['fracfemale'][-1])/nsample_female\n",
    "myprctile_m = np.count_nonzero(fracfemale_m<=myinfo['fracfemale'][-1])/nsample_female\n",
    "print('My percentile among women I follow: %f'%(myprctile_f*100.))\n",
    "print('My percentile among men I follow: %f'%(myprctile_m*100.))\n",
    "print('My percentile among people I follow: %f'%((myprctile_f+myprctile_m)*50.))\n",
    "\n",
    "counts_f,edges = np.histogram(fracfemale_f,bins=25,range=(0,.6))\n",
    "counts_m,edges = np.histogram(fracfemale_m,bins=25,range=(0,.6))\n",
    "ctrs = (edges[1:]+edges[:-1])/2.\n",
    "width = edges[1]-edges[0]\n",
    "normcounts_f = counts_f / np.sum(counts_f)\n",
    "normcounts_m = counts_m / np.sum(counts_m)\n",
    "plt.bar(ctrs+width/5.,normcounts_f,width=width*.35,color=colorf,label='Female')\n",
    "plt.bar(ctrs-width/5.,normcounts_m,width=width*.35,color=colorm,label='Male')\n",
    "ylim = plt.gca().get_ylim()\n",
    "plt.plot([myinfo['fracfemale'][-1]]*2,ylim,'k-',lw=3,label='Me')\n",
    "plt.gca().set_ylim(ylim)\n",
    "plt.legend()\n",
    "plt.xlabel('Fraction female')\n",
    "plt.ylabel('Number of users')\n",
    "plt.title('Gender ratio for people I follow on Twitter')\n",
    "\n",
    "stats.mannwhitneyu(fracfemale_f,fracfemale_m,alternative='greater')\n"
   ]
  },
  {
   "cell_type": "code",
   "execution_count": 57,
   "metadata": {},
   "outputs": [
    {
     "name": "stdout",
     "output_type": "stream",
     "text": [
      "Jeannette Bohg (female): 0.125000\n",
      "Laura Leal-Taixe (female): 0.225000\n",
      "Naomi Saphra (female): 0.511530\n",
      "Bill Gates (male): 0.215789\n",
      "Nan Rosemary Ke (mostly_female): 0.378406\n",
      "Judith MitraniReiser (female): 0.501348\n",
      "Karla Kaun (female): 0.416149\n",
      "Martha White (female): 0.138889\n",
      "Davis Bennett (male): 0.441558\n",
      "Allan Wong (male): 0.353933\n",
      "John Hodgman (male): 0.207547\n",
      "Elizabeth C. Gorski (female): 0.392573\n",
      "Ellie Heckscher (female): 0.371681\n",
      "Athena Akrami (female): 0.390187\n",
      "Anne Carpenter (female): 0.384189\n",
      "Barack Obama (male): 0.428571\n",
      "Alex Wild (male): 0.403200\n",
      "Jane Wang (female): 0.187739\n",
      "Sara Beery (female): 0.315789\n",
      "Adam L. Taylor (male): 0.244275\n",
      "Chris Potter (mostly_male): 0.436782\n",
      "Sasha Rush (mostly_male): 0.314286\n",
      "Eric Schreiter (male): 0.375000\n",
      "Alex Smola (male): 0.301887\n",
      "Edith Zimmerman (female): 0.246377\n",
      "Jen Heemstra (female): 0.529982\n",
      "Elena Rivas (female): 0.373134\n",
      "Tommy Caldwell (male): 0.211765\n",
      "David Cho (male): 0.466387\n",
      "Ted Pedersen (male): 0.286614\n",
      "Elijah Cole (male): 0.367188\n",
      "Martin Jones (male): 0.272727\n",
      "Mike Economo (male): 0.298701\n",
      "Andrew S. Champion (male): 0.298319\n",
      "Grace Vesom (female): 0.560000\n",
      "Rachel Thomas (female): 0.266272\n",
      "Shakir Mohamed (male): 0.189555\n",
      "Matt Gritzmacher (male): 0.320000\n",
      "Erich Jarvis (male): 0.220106\n",
      "Jewel Burks Solomon (mostly_female): 0.397608\n",
      "Serena Yeung (female): 0.437624\n",
      "Kay M Tye (male): 0.485623\n",
      "Silvio Savarese (male): 0.375887\n",
      "Sarah Certel (female): 0.337349\n",
      "Matthieu Louis (male): 0.508062\n",
      "Tessa Montague (female): 0.396761\n",
      "Krystyna Keleman (female): 0.261905\n",
      "Sara Hooker (female): 0.529750\n",
      "Sebastian Seung (male): 0.250564\n",
      "Noah Snavely (male): 0.303419\n",
      "Stephanie Albin (female): 0.384354\n",
      "Nando de Freitas (male): 0.175573\n",
      "Jim Keeley (male): 0.365979\n",
      "Doris Tsao (female): 0.290488\n",
      "Surya Ganguli (male): 0.374847\n",
      "karel svoboda (male): 0.334895\n",
      "Misha Ahrens (male): 0.294118\n",
      "Marius Pachitariu (male): 0.260870\n",
      "Nelson Spruston (male): 0.242038\n",
      "Ilana Witten (female): 0.220000\n",
      "Nicholas Turner (male): 0.406528\n",
      "Hanna Wallach (female): 0.354430\n",
      "Caroline Palavicino-Maggio PhD (female): 0.206667\n",
      "Misha Denil (male): 0.147766\n",
      "Yann LeCun (male): 0.103627\n",
      "Jeff Dean (@🏡) (male): 0.368471\n",
      "Fernanda Viégas (female): 0.373606\n",
      "Jakob Macke (male): 0.497532\n",
      "Adam J Calhoun (male): 0.335294\n",
      "Andrew Fitzgibbon (male): 0.290909\n",
      "Virginie Uhlmann (female): 0.197080\n",
      "Andrew Saxe (male): 0.319149\n",
      "Alice Oh (female): 0.222798\n",
      "Hugo Larochelle (male): 0.259843\n",
      "Ed Yong (male): 0.271429\n",
      "Philipp Hanslovsky (male): 0.468051\n",
      "Sandeep Robert Datta (mostly_male): 0.254682\n",
      "mark cembrowski (male): 0.227642\n",
      "Gonzalo de Polavieja (male): 0.307167\n",
      "Andrew Straw (male): 0.264907\n",
      "Andreas Kay (male): 0.270208\n",
      "Elizabeth Hillman (female): 0.586977\n",
      "Christine Käser-Chen (female): 0.438017\n",
      "John Bogovic (male): 0.291667\n",
      "Leslie Vosshall PhD (mostly_female): 0.322222\n",
      "Marcella Noorman (female): 0.277778\n",
      "Adrienne Fairhall (female): 0.516053\n",
      "Carlos Ribeiro (male): 0.447674\n",
      "Rex Parker⚾️🐘🐘🐘⚾️ (male): 0.553846\n",
      "Stephan Saalfeld (male): 0.183486\n",
      "Janelle Shane (female): 0.381894\n",
      "Jan M Ache (male): 0.191310\n",
      "John Langford (male): 0.357522\n",
      "Fred \"Replace Trump Now\" Wolf (male): 0.409836\n",
      "Juan Carlos Niebles (male): 0.246291\n",
      "Rose Yu (female): 0.379747\n",
      "Lior Pachter (male): 0.209302\n",
      "David Sussillo 🏡💻🤞🤓 (male): 0.370968\n",
      "Ann Kennedy (female): 0.217391\n",
      "Benjamin de Bivort (male): 0.376359\n"
     ]
    }
   ],
   "source": [
    "# get info about following\n",
    "anonymize = False\n",
    "samplenames = list(map(lambda x: myinfo['namesknown'][x],idxsample))\n",
    "samplegenders = list(map(lambda x: myinfo['gsknown'][x],idxsample))\n",
    "\n",
    "for i in range(len(samplenames)):\n",
    "    if anonymize:\n",
    "        if len(otherinfo[i]['fracfemale']) == 0:\n",
    "            print('anonymous %s: not following anyone'%(samplegenders[i]))\n",
    "        else:\n",
    "            print('anonymous %s: %f'%(samplegenders[i],otherinfo[i]['fracfemale'][-1]))\n",
    "    else:\n",
    "        if len(otherinfo[i]['fracfemale']) == 0:\n",
    "            print('%s (%s): not following anyone'%(samplenames[i],samplegenders[i]))\n",
    "        else:\n",
    "            print('%s (%s): %f'%(samplenames[i],samplegenders[i],otherinfo[i]['fracfemale'][-1]))"
   ]
  },
  {
   "cell_type": "code",
   "execution_count": 58,
   "metadata": {},
   "outputs": [
    {
     "name": "stdout",
     "output_type": "stream",
     "text": [
      "[0.5 1.  0.5]\n"
     ]
    },
    {
     "data": {
      "text/plain": [
       "<matplotlib.legend.Legend at 0x12ffa264a08>"
      ]
     },
     "execution_count": 58,
     "metadata": {},
     "output_type": "execute_result"
    },
    {
     "data": {
      "image/png": "[encoded data removed]",
      "text/plain": [
       "<Figure size 432x288 with 1 Axes>"
      ]
     },
     "metadata": {
      "needs_background": "light"
     },
     "output_type": "display_data"
    }
   ],
   "source": [
    "# plot stats of samples and me\n",
    "maxl = 1000\n",
    "dointerp = True # whether to plot absolute following number or fraction of following\n",
    "doplotprctiles = True\n",
    "allusers_fracfemale = 0.39 # https://www.statista.com/statistics/828092/distribution-of-users-on-twitter-worldwide-gender/\n",
    "\n",
    "Y = np.zeros((len(otherinfo),maxl))\n",
    "Y[:] = np.nan\n",
    "counts = np.zeros((1,maxl))\n",
    "xinterp = np.linspace(0, 1, maxl)\n",
    "for i in range(0,len(otherinfo)):\n",
    "    y = otherinfo[i]['fracfemale_filtered'][3*sigma:-3*sigma]\n",
    "    if dointerp:\n",
    "        x = np.linspace(0,1,y.shape[0])\n",
    "        f = interpolate.interp1d(x,y,axis=0)\n",
    "        yinterp = f(xinterp)\n",
    "        Y[i,:] = yinterp\n",
    "    else:\n",
    "        l = min(len(y),maxl)\n",
    "        Y[i,:l] = y[:l]\n",
    "        \n",
    "idxfemale = np.arange(0,nsample_female)\n",
    "idxmale = np.arange(nsample_female,2*nsample_female)\n",
    "\n",
    "prctiles_compute = np.array([25,50,75])\n",
    "middlei, = np.where(prctiles_compute==50)\n",
    "middlei = middlei[0]\n",
    "prctiles_female = np.percentile(Y[idxfemale,:],prctiles_compute,axis=0)\n",
    "prctiles_male = np.percentile(Y[idxmale,:],prctiles_compute,axis=0)\n",
    "\n",
    "mu_female = np.nanmean(Y[idxfemale,:],axis=0)\n",
    "mu_male = np.nanmean(Y[idxmale,:],axis=0)\n",
    "sig_female = np.nanstd(Y[idxfemale,:],axis=0)\n",
    "sig_male = np.nanstd(Y[idxmale,:],axis=0)\n",
    "counts_female = np.sum(np.isnan(Y[idxfemale,:])==False,axis=0)\n",
    "counts_male = np.sum(np.isnan(Y[idxmale,:])==False,axis=0)\n",
    "stderr_female = sig_female / np.sqrt(counts_female)\n",
    "stderr_male = sig_male / np.sqrt(counts_male)\n",
    "if dointerp:\n",
    "    x = xinterp\n",
    "else:\n",
    "    x = np.arange(maxl)\n",
    "\n",
    "if doplotprctiles:\n",
    "    alpha = (1.-np.abs(50.-np.array(prctiles_compute))/50.)\n",
    "    print(alpha)\n",
    "    for i in range(prctiles_compute.shape[0]//2):\n",
    "        plt.fill_between(x, prctiles_female[i,:], prctiles_female[-i-1,:],alpha=alpha[i],lw=0,color=colorf)\n",
    "        plt.fill_between(x, prctiles_male[i,:], prctiles_male[-i-1,:],alpha=alpha[i],lw=0,color=colorm)\n",
    "    hf, = plt.plot(x,prctiles_female[middlei,:],'-',linewidth=3,color=colorf,label='Female')\n",
    "    hm, = plt.plot(x,prctiles_male[middlei,:],'-',linewidth=3,color=colorm,label='Male')\n",
    "else:\n",
    "\n",
    "    # plot mean and standard error\n",
    "    plt.plot(x,mu_female-sig_female,'-',color=colorf)\n",
    "    plt.plot(x,mu_female+sig_female,'-',color=colorf)\n",
    "    hf, = plt.plot(x,mu_female,'-',color=colorf,linewidth=3,label='Female')\n",
    "    plt.plot(x,mu_male-sig_male,'-',color=colorm)\n",
    "    plt.plot(x,mu_male+sig_male,'-',color=colorm)\n",
    "    hm, = plt.plot(x,mu_male,'-',color=colorm,linewidth=3,label='Male')\n",
    "\n",
    "y = myinfo['fracfemale_filtered'][3*sigma:-3*sigma]\n",
    "if dointerp:\n",
    "    x = np.linspace(0,1,y.shape[0])\n",
    "    f = interpolate.interp1d(x,y,axis=0)\n",
    "    yinterp = f(xinterp)\n",
    "    hme, = plt.plot(xinterp,yinterp,'k-',linewidth=5,label='Me')\n",
    "    plt.plot([0.,1.],[allusers_fracfemale]*2,'-',color=[.6,.6,.6],lw=3)\n",
    "else:\n",
    "    hme, = plt.plot(y,'k-',linewidth=5,label='Me')\n",
    "    plt.plot([0.,len(y)],[allusers_fracfemale]*2,'-',color=[.6,.6,.6],lw=3)\n",
    "plt.ylabel('Fraction female')\n",
    "plt.xlabel('Something related to time')\n",
    "plt.title('Gender ratio for people I follow on Twitter')\n",
    "plt.legend()"
   ]
  },
  {
   "cell_type": "code",
   "execution_count": 69,
   "metadata": {},
   "outputs": [
    {
     "name": "stdout",
     "output_type": "stream",
     "text": [
      "samplei = 0, name = Jeannette Bohg, sample = 152, id = 869862586610851840\n",
      "samplei = 1, name = Laura Leal-Taixe, sample = 200, id = 748267272939020293\n",
      "samplei = 2, name = Naomi Saphra, sample = 194, id = 215113195\n",
      "samplei = 3, name = Bill Gates, sample = 167, id = 50393960\n",
      "samplei = 4, name = Nan Rosemary Ke, sample = 182, id = 345129453\n",
      "samplei = 5, name = Judith MitraniReiser, sample = 15, id = 737478121079906304\n",
      "samplei = 6, name = Karla Kaun, sample = 19, id = 178588367\n",
      "samplei = 7, name = Martha White, sample = 183, id = 543919023\n",
      "samplei = 8, name = Davis Bennett, sample = 174, id = 946827254901936130\n",
      "samplei = 9, name = Allan Wong, sample = 118, id = 49224993\n",
      "samplei = 10, name = John Hodgman, sample = 92, id = 14348594\n",
      "samplei = 11, name = Elizabeth C. Gorski, sample = 31, id = 217852227\n",
      "samplei = 12, name = Ellie Heckscher, sample = 173, id = 35269421\n",
      "samplei = 13, name = Athena Akrami, sample = 87, id = 1035389878605885440\n",
      "samplei = 14, name = Anne Carpenter, sample = 4, id = 1431348835\n",
      "samplei = 15, name = Barack Obama, sample = 156, id = 813286\n",
      "samplei = 16, name = Alex Wild, sample = 192, id = 166022406\n",
      "samplei = 17, name = Jane Wang, sample = 27, id = 22385548\n",
      "samplei = 18, name = Sara Beery, sample = 155, id = 1237147828704575488\n",
      "samplei = 19, name = Adam L. Taylor, sample = 73, id = 14840926\n",
      "samplei = 20, name = Chris Potter, sample = 124, id = 1043667150\n",
      "samplei = 21, name = Sasha Rush, sample = 178, id = 4558314927\n",
      "samplei = 22, name = Eric Schreiter, sample = 126, id = 3797818101\n",
      "samplei = 23, name = Alex Smola, sample = 94, id = 14986849\n",
      "samplei = 24, name = Edith Zimmerman, sample = 105, id = 19087450\n",
      "samplei = 25, name = Jen Heemstra, sample = 20, id = 2704715387\n",
      "samplei = 26, name = Elena Rivas, sample = 115, id = 2789742375\n",
      "samplei = 27, name = Tommy Caldwell, sample = 197, id = 246124588\n",
      "samplei = 28, name = David Cho, sample = 106, id = 1014691\n",
      "samplei = 29, name = Ted Pedersen, sample = 195, id = 1002638800575782912\n",
      "samplei = 30, name = Elijah Cole, sample = 158, id = 1192003193921654784\n",
      "samplei = 31, name = Martin Jones, sample = 52, id = 56786888\n",
      "samplei = 32, name = Mike Economo, sample = 121, id = 938416059962609665\n",
      "samplei = 33, name = Andrew S. Champion, sample = 50, id = 19301221\n",
      "samplei = 34, name = Grace Vesom, sample = 23, id = 25320089\n",
      "samplei = 35, name = Rachel Thomas, sample = 146, id = 1408142352\n",
      "samplei = 36, name = Shakir Mohamed, sample = 185, id = 476582730\n",
      "samplei = 37, name = Matt Gritzmacher, sample = 143, id = 223734352\n",
      "samplei = 38, name = Erich Jarvis, sample = 83, id = 314158631\n",
      "samplei = 39, name = Jewel Burks Solomon, sample = 13, id = 159315527\n"
     ]
    },
    {
     "name": "stderr",
     "output_type": "stream",
     "text": [
      "Rate limit reached. Sleeping for: 280\n"
     ]
    },
    {
     "name": "stdout",
     "output_type": "stream",
     "text": [
      "samplei = 40, name = Serena Yeung, sample = 151, id = 207665930\n",
      "samplei = 41, name = Kay M Tye, sample = 67, id = 498542680\n",
      "samplei = 42, name = Silvio Savarese, sample = 153, id = 2835683058\n",
      "samplei = 43, name = Sarah Certel, sample = 37, id = 700532262165676033\n",
      "samplei = 44, name = Matthieu Louis, sample = 148, id = 919035620\n",
      "samplei = 45, name = Tessa Montague, sample = 111, id = 985586833479356417\n",
      "samplei = 46, name = Krystyna Keleman, sample = 72, id = 875432666555965444\n",
      "samplei = 47, name = Sara Hooker, sample = 181, id = 731538535795163136\n",
      "samplei = 48, name = Sebastian Seung, sample = 65, id = 122080635\n",
      "samplei = 49, name = Noah Snavely, sample = 88, id = 15035863\n",
      "samplei = 50, name = Stephanie Albin, sample = 123, id = 3072541911\n",
      "samplei = 51, name = Nando de Freitas, sample = 36, id = 29843511\n",
      "samplei = 52, name = Jim Keeley, sample = 138, id = 13537162\n",
      "samplei = 53, name = Doris Tsao, sample = 177, id = 788467623629500416\n",
      "samplei = 54, name = Surya Ganguli, sample = 56, id = 2235411914\n",
      "samplei = 55, name = karel svoboda, sample = 132, id = 780291008\n",
      "samplei = 56, name = Misha Ahrens, sample = 130, id = 1410832886\n",
      "samplei = 57, name = Marius Pachitariu, sample = 129, id = 433741920\n",
      "samplei = 58, name = Nelson Spruston, sample = 133, id = 288578245\n",
      "samplei = 59, name = Ilana Witten, sample = 86, id = 3318332379\n",
      "samplei = 60, name = Nicholas Turner, sample = 164, id = 951320423597211653\n",
      "samplei = 61, name = Hanna Wallach, sample = 107, id = 823957466\n",
      "samplei = 62, name = Caroline Palavicino-Maggio PhD, sample = 169, id = 47241596\n",
      "samplei = 63, name = Misha Denil, sample = 33, id = 197684961\n",
      "samplei = 64, name = Yann LeCun, sample = 0, id = 48008938\n",
      "samplei = 65, name = Jeff Dean (@🏡), sample = 10, id = 911297187664949248\n",
      "samplei = 66, name = Fernanda Viégas, sample = 60, id = 19920203\n",
      "samplei = 67, name = Jakob Macke, sample = 53, id = 3147637105\n",
      "samplei = 68, name = Adam J Calhoun, sample = 22, id = 636023721\n",
      "samplei = 69, name = Andrew Fitzgibbon, sample = 12, id = 53514472\n",
      "samplei = 70, name = Virginie Uhlmann, sample = 51, id = 959028649528840192\n",
      "samplei = 71, name = Andrew Saxe, sample = 168, id = 1193222240202035200\n",
      "samplei = 72, name = Alice Oh, sample = 145, id = 16520284\n",
      "samplei = 73, name = Hugo Larochelle, sample = 35, id = 3333052551\n",
      "samplei = 74, name = Ed Yong, sample = 141, id = 19767193\n",
      "samplei = 75, name = Philipp Hanslovsky, sample = 101, id = 3131559501\n",
      "samplei = 76, name = Sandeep Robert Datta, sample = 41, id = 1400517288\n",
      "samplei = 77, name = mark cembrowski, sample = 122, id = 828056721750896640\n",
      "samplei = 78, name = Gonzalo de Polavieja, sample = 144, id = 149895490\n",
      "samplei = 79, name = Andrew Straw, sample = 58, id = 324367317\n",
      "samplei = 80, name = Andreas Kay, sample = 188, id = 3192303453\n",
      "samplei = 81, name = Elizabeth Hillman, sample = 157, id = 979697205664800768\n",
      "samplei = 82, name = Christine Käser-Chen, sample = 93, id = 843706252517502977\n",
      "samplei = 83, name = John Bogovic, sample = 43, id = 2848165007\n",
      "samplei = 84, name = Leslie Vosshall PhD, sample = 66, id = 28912478\n",
      "samplei = 85, name = Marcella Noorman, sample = 89, id = 1135303672219545600\n",
      "samplei = 86, name = Adrienne Fairhall, sample = 142, id = 842164502422417409\n",
      "samplei = 87, name = Carlos Ribeiro, sample = 84, id = 429146012\n",
      "samplei = 88, name = Rex Parker⚾️🐘🐘🐘⚾️, sample = 30, id = 14230012\n",
      "samplei = 89, name = Stephan Saalfeld, sample = 38, id = 930090512\n",
      "samplei = 90, name = Janelle Shane, sample = 180, id = 2460047754\n",
      "samplei = 91, name = Jan M Ache, sample = 69, id = 1091165441723166720\n",
      "samplei = 92, name = John Langford, sample = 79, id = 1210596212140892160\n",
      "samplei = 93, name = Fred \"Replace Trump Now\" Wolf, sample = 76, id = 22445339\n",
      "samplei = 94, name = Juan Carlos Niebles, sample = 190, id = 559207602\n",
      "samplei = 95, name = Rose Yu, sample = 166, id = 1890694861\n"
     ]
    },
    {
     "name": "stderr",
     "output_type": "stream",
     "text": [
      "Rate limit reached. Sleeping for: 585\n"
     ]
    },
    {
     "name": "stdout",
     "output_type": "stream",
     "text": [
      "samplei = 96, name = Lior Pachter, sample = 179, id = 31936449\n",
      "samplei = 97, name = David Sussillo 🏡💻🤞🤓, sample = 77, id = 800067317702881280\n",
      "samplei = 98, name = Ann Kennedy, sample = 71, id = 1143074659291680768\n",
      "samplei = 99, name = Benjamin de Bivort, sample = 25, id = 259568572\n"
     ]
    }
   ],
   "source": [
    "# who do people i follow retweet? \n",
    "\n",
    "otherretweetnames = []\n",
    "\n",
    "for samplei in range(len(otherretweetnames),len(idxsample)):\n",
    "    sample = idxsample[samplei]\n",
    "    id = myinfo['idsknown'][sample]\n",
    "    print('samplei = %d, name = %s, sample = %d, id = %d'%(samplei,myinfo['namesknown'][sample],sample,id))\n",
    "    statusescurr = get_tweets(id,maxntweets=maxntweets)\n",
    "    namescurr,retweettypescurr,isretweetcurr = get_retweet_names(statusescurr,verbose=False)\n",
    "    #print(namescurr)\n",
    "    otherretweetnames.append(namescurr)"
   ]
  },
  {
   "cell_type": "code",
   "execution_count": 119,
   "metadata": {},
   "outputs": [
    {
     "name": "stdout",
     "output_type": "stream",
     "text": [
      "samplei = 0, name = Jeannette Bohg, sample = 152, id = 869862586610851840\n",
      "samplei = 1, name = Laura Leal-Taixe, sample = 200, id = 748267272939020293\n",
      "samplei = 2, name = Naomi Saphra, sample = 194, id = 215113195\n",
      "samplei = 3, name = Bill Gates, sample = 167, id = 50393960\n"
     ]
    },
    {
     "name": "stderr",
     "output_type": "stream",
     "text": [
      "Rate limit reached. Sleeping for: 757\n"
     ]
    },
    {
     "name": "stdout",
     "output_type": "stream",
     "text": [
      "samplei = 4, name = Nan Rosemary Ke, sample = 182, id = 345129453\n",
      "samplei = 5, name = Judith MitraniReiser, sample = 15, id = 737478121079906304\n",
      "samplei = 6, name = Karla Kaun, sample = 19, id = 178588367\n",
      "samplei = 7, name = Martha White, sample = 183, id = 543919023\n",
      "samplei = 8, name = Davis Bennett, sample = 174, id = 946827254901936130\n"
     ]
    },
    {
     "name": "stderr",
     "output_type": "stream",
     "text": [
      "Rate limit reached. Sleeping for: 867\n"
     ]
    },
    {
     "name": "stdout",
     "output_type": "stream",
     "text": [
      "samplei = 9, name = Allan Wong, sample = 118, id = 49224993\n",
      "samplei = 10, name = John Hodgman, sample = 92, id = 14348594\n",
      "samplei = 11, name = Elizabeth C. Gorski, sample = 31, id = 217852227\n",
      "samplei = 12, name = Ellie Heckscher, sample = 173, id = 35269421\n",
      "samplei = 13, name = Athena Akrami, sample = 87, id = 1035389878605885440\n"
     ]
    },
    {
     "name": "stderr",
     "output_type": "stream",
     "text": [
      "Rate limit reached. Sleeping for: 869\n"
     ]
    },
    {
     "name": "stdout",
     "output_type": "stream",
     "text": [
      "samplei = 14, name = Anne Carpenter, sample = 4, id = 1431348835\n",
      "samplei = 15, name = Barack Obama, sample = 156, id = 813286\n",
      "samplei = 16, name = Alex Wild, sample = 192, id = 166022406\n",
      "samplei = 17, name = Jane Wang, sample = 27, id = 22385548\n"
     ]
    },
    {
     "name": "stderr",
     "output_type": "stream",
     "text": [
      "Rate limit reached. Sleeping for: 869\n"
     ]
    },
    {
     "name": "stdout",
     "output_type": "stream",
     "text": [
      "samplei = 18, name = Sara Beery, sample = 155, id = 1237147828704575488\n",
      "samplei = 19, name = Adam L. Taylor, sample = 73, id = 14840926\n",
      "samplei = 20, name = Chris Potter, sample = 124, id = 1043667150\n",
      "samplei = 21, name = Sasha Rush, sample = 178, id = 4558314927\n"
     ]
    },
    {
     "name": "stderr",
     "output_type": "stream",
     "text": [
      "Rate limit reached. Sleeping for: 868\n"
     ]
    },
    {
     "name": "stdout",
     "output_type": "stream",
     "text": [
      "samplei = 22, name = Eric Schreiter, sample = 126, id = 3797818101\n",
      "samplei = 23, name = Alex Smola, sample = 94, id = 14986849\n",
      "samplei = 24, name = Edith Zimmerman, sample = 105, id = 19087450\n",
      "samplei = 25, name = Jen Heemstra, sample = 20, id = 2704715387\n",
      "samplei = 26, name = Elena Rivas, sample = 115, id = 2789742375\n"
     ]
    },
    {
     "name": "stderr",
     "output_type": "stream",
     "text": [
      "Rate limit reached. Sleeping for: 868\n"
     ]
    },
    {
     "name": "stdout",
     "output_type": "stream",
     "text": [
      "samplei = 27, name = Tommy Caldwell, sample = 197, id = 246124588\n",
      "samplei = 28, name = David Cho, sample = 106, id = 1014691\n",
      "samplei = 29, name = Ted Pedersen, sample = 195, id = 1002638800575782912\n",
      "samplei = 30, name = Elijah Cole, sample = 158, id = 1192003193921654784\n",
      "samplei = 31, name = Martin Jones, sample = 52, id = 56786888\n"
     ]
    },
    {
     "name": "stderr",
     "output_type": "stream",
     "text": [
      "Rate limit reached. Sleeping for: 873\n"
     ]
    },
    {
     "name": "stdout",
     "output_type": "stream",
     "text": [
      "samplei = 32, name = Mike Economo, sample = 121, id = 938416059962609665\n",
      "samplei = 33, name = Andrew S. Champion, sample = 50, id = 19301221\n",
      "samplei = 34, name = Grace Vesom, sample = 23, id = 25320089\n",
      "samplei = 35, name = Rachel Thomas, sample = 146, id = 1408142352\n"
     ]
    },
    {
     "name": "stderr",
     "output_type": "stream",
     "text": [
      "Rate limit reached. Sleeping for: 872\n"
     ]
    },
    {
     "name": "stdout",
     "output_type": "stream",
     "text": [
      "samplei = 36, name = Shakir Mohamed, sample = 185, id = 476582730\n",
      "samplei = 37, name = Matt Gritzmacher, sample = 143, id = 223734352\n",
      "samplei = 38, name = Erich Jarvis, sample = 83, id = 314158631\n",
      "samplei = 39, name = Jewel Burks Solomon, sample = 13, id = 159315527\n"
     ]
    },
    {
     "name": "stderr",
     "output_type": "stream",
     "text": [
      "Rate limit reached. Sleeping for: 867\n"
     ]
    },
    {
     "name": "stdout",
     "output_type": "stream",
     "text": [
      "samplei = 40, name = Serena Yeung, sample = 151, id = 207665930\n",
      "samplei = 41, name = Kay M Tye, sample = 67, id = 498542680\n",
      "samplei = 42, name = Silvio Savarese, sample = 153, id = 2835683058\n",
      "samplei = 43, name = Sarah Certel, sample = 37, id = 700532262165676033\n",
      "samplei = 44, name = Matthieu Louis, sample = 148, id = 919035620\n",
      "samplei = 45, name = Tessa Montague, sample = 111, id = 985586833479356417\n"
     ]
    },
    {
     "name": "stderr",
     "output_type": "stream",
     "text": [
      "Rate limit reached. Sleeping for: 865\n"
     ]
    },
    {
     "name": "stdout",
     "output_type": "stream",
     "text": [
      "samplei = 46, name = Krystyna Keleman, sample = 72, id = 875432666555965444\n",
      "samplei = 47, name = Sara Hooker, sample = 181, id = 731538535795163136\n",
      "samplei = 48, name = Sebastian Seung, sample = 65, id = 122080635\n",
      "samplei = 49, name = Noah Snavely, sample = 88, id = 15035863\n"
     ]
    },
    {
     "name": "stderr",
     "output_type": "stream",
     "text": [
      "Rate limit reached. Sleeping for: 872\n"
     ]
    },
    {
     "name": "stdout",
     "output_type": "stream",
     "text": [
      "samplei = 50, name = Stephanie Albin, sample = 123, id = 3072541911\n",
      "samplei = 51, name = Nando de Freitas, sample = 36, id = 29843511\n",
      "samplei = 52, name = Jim Keeley, sample = 138, id = 13537162\n",
      "samplei = 53, name = Doris Tsao, sample = 177, id = 788467623629500416\n"
     ]
    },
    {
     "name": "stderr",
     "output_type": "stream",
     "text": [
      "Rate limit reached. Sleeping for: 872\n"
     ]
    },
    {
     "name": "stdout",
     "output_type": "stream",
     "text": [
      "samplei = 54, name = Surya Ganguli, sample = 56, id = 2235411914\n",
      "samplei = 55, name = karel svoboda, sample = 132, id = 780291008\n",
      "samplei = 56, name = Misha Ahrens, sample = 130, id = 1410832886\n",
      "samplei = 57, name = Marius Pachitariu, sample = 129, id = 433741920\n"
     ]
    },
    {
     "name": "stderr",
     "output_type": "stream",
     "text": [
      "Rate limit reached. Sleeping for: 872\n"
     ]
    },
    {
     "name": "stdout",
     "output_type": "stream",
     "text": [
      "samplei = 58, name = Nelson Spruston, sample = 133, id = 288578245\n",
      "samplei = 59, name = Ilana Witten, sample = 86, id = 3318332379\n",
      "samplei = 60, name = Nicholas Turner, sample = 164, id = 951320423597211653\n",
      "samplei = 61, name = Hanna Wallach, sample = 107, id = 823957466\n"
     ]
    },
    {
     "name": "stderr",
     "output_type": "stream",
     "text": [
      "Rate limit reached. Sleeping for: 872\n"
     ]
    },
    {
     "name": "stdout",
     "output_type": "stream",
     "text": [
      "samplei = 62, name = Caroline Palavicino-Maggio PhD, sample = 169, id = 47241596\n",
      "samplei = 63, name = Misha Denil, sample = 33, id = 197684961\n",
      "samplei = 64, name = Yann LeCun, sample = 0, id = 48008938\n",
      "samplei = 65, name = Jeff Dean (@🏡), sample = 10, id = 911297187664949248\n"
     ]
    },
    {
     "name": "stderr",
     "output_type": "stream",
     "text": [
      "Rate limit reached. Sleeping for: 872\n"
     ]
    },
    {
     "name": "stdout",
     "output_type": "stream",
     "text": [
      "samplei = 66, name = Fernanda Viégas, sample = 60, id = 19920203\n",
      "samplei = 67, name = Jakob Macke, sample = 53, id = 3147637105\n",
      "samplei = 68, name = Adam J Calhoun, sample = 22, id = 636023721\n",
      "samplei = 69, name = Andrew Fitzgibbon, sample = 12, id = 53514472\n"
     ]
    },
    {
     "name": "stderr",
     "output_type": "stream",
     "text": [
      "Rate limit reached. Sleeping for: 873\n"
     ]
    },
    {
     "name": "stdout",
     "output_type": "stream",
     "text": [
      "samplei = 70, name = Virginie Uhlmann, sample = 51, id = 959028649528840192\n",
      "samplei = 71, name = Andrew Saxe, sample = 168, id = 1193222240202035200\n",
      "samplei = 72, name = Alice Oh, sample = 145, id = 16520284\n",
      "samplei = 73, name = Hugo Larochelle, sample = 35, id = 3333052551\n"
     ]
    },
    {
     "name": "stderr",
     "output_type": "stream",
     "text": [
      "Rate limit reached. Sleeping for: 874\n"
     ]
    },
    {
     "name": "stdout",
     "output_type": "stream",
     "text": [
      "samplei = 74, name = Ed Yong, sample = 141, id = 19767193\n",
      "samplei = 75, name = Philipp Hanslovsky, sample = 101, id = 3131559501\n",
      "samplei = 76, name = Sandeep Robert Datta, sample = 41, id = 1400517288\n",
      "samplei = 77, name = mark cembrowski, sample = 122, id = 828056721750896640\n"
     ]
    },
    {
     "name": "stderr",
     "output_type": "stream",
     "text": [
      "Rate limit reached. Sleeping for: 873\n"
     ]
    },
    {
     "name": "stdout",
     "output_type": "stream",
     "text": [
      "samplei = 78, name = Gonzalo de Polavieja, sample = 144, id = 149895490\n",
      "samplei = 79, name = Andrew Straw, sample = 58, id = 324367317\n",
      "samplei = 80, name = Andreas Kay, sample = 188, id = 3192303453\n",
      "samplei = 81, name = Elizabeth Hillman, sample = 157, id = 979697205664800768\n"
     ]
    },
    {
     "name": "stderr",
     "output_type": "stream",
     "text": [
      "Rate limit reached. Sleeping for: 874\n"
     ]
    },
    {
     "name": "stdout",
     "output_type": "stream",
     "text": [
      "samplei = 82, name = Christine Käser-Chen, sample = 93, id = 843706252517502977\n",
      "samplei = 83, name = John Bogovic, sample = 43, id = 2848165007\n",
      "samplei = 84, name = Leslie Vosshall PhD, sample = 66, id = 28912478\n",
      "samplei = 85, name = Marcella Noorman, sample = 89, id = 1135303672219545600\n",
      "samplei = 86, name = Adrienne Fairhall, sample = 142, id = 842164502422417409\n",
      "samplei = 87, name = Carlos Ribeiro, sample = 84, id = 429146012\n"
     ]
    },
    {
     "name": "stderr",
     "output_type": "stream",
     "text": [
      "Rate limit reached. Sleeping for: 872\n"
     ]
    },
    {
     "name": "stdout",
     "output_type": "stream",
     "text": [
      "samplei = 88, name = Rex Parker⚾️🐘🐘🐘⚾️, sample = 30, id = 14230012\n",
      "samplei = 89, name = Stephan Saalfeld, sample = 38, id = 930090512\n",
      "samplei = 90, name = Janelle Shane, sample = 180, id = 2460047754\n"
     ]
    },
    {
     "name": "stderr",
     "output_type": "stream",
     "text": [
      "Rate limit reached. Sleeping for: 868\n"
     ]
    },
    {
     "name": "stdout",
     "output_type": "stream",
     "text": [
      "samplei = 91, name = Jan M Ache, sample = 69, id = 1091165441723166720\n",
      "samplei = 92, name = John Langford, sample = 79, id = 1210596212140892160\n",
      "samplei = 93, name = Fred \"Replace Trump Now\" Wolf, sample = 76, id = 22445339\n",
      "samplei = 94, name = Juan Carlos Niebles, sample = 190, id = 559207602\n",
      "samplei = 95, name = Rose Yu, sample = 166, id = 1890694861\n"
     ]
    },
    {
     "name": "stderr",
     "output_type": "stream",
     "text": [
      "Rate limit reached. Sleeping for: 872\n"
     ]
    },
    {
     "name": "stdout",
     "output_type": "stream",
     "text": [
      "samplei = 96, name = Lior Pachter, sample = 179, id = 31936449\n",
      "samplei = 97, name = David Sussillo 🏡💻🤞🤓, sample = 77, id = 800067317702881280\n",
      "samplei = 98, name = Ann Kennedy, sample = 71, id = 1143074659291680768\n",
      "samplei = 99, name = Benjamin de Bivort, sample = 25, id = 259568572\n"
     ]
    }
   ],
   "source": [
    "# who do people i follow favorite? \n",
    "otherfavnames = []\n",
    "\n",
    "for samplei in range(len(otherfavnames),len(idxsample)):\n",
    "    sample = idxsample[samplei]\n",
    "    id = myinfo['idsknown'][sample]\n",
    "    print('samplei = %d, name = %s, sample = %d, id = %d'%(samplei,myinfo['namesknown'][sample],sample,id))\n",
    "    favscurr = get_favs(user_id=id,maxnfavs=maxnfavs)\n",
    "    namescurr = get_fav_names(favscurr,verbose=False)\n",
    "    #print(namescurr)\n",
    "    otherfavnames.append(namescurr)"
   ]
  },
  {
   "cell_type": "code",
   "execution_count": 124,
   "metadata": {},
   "outputs": [
    {
     "name": "stdout",
     "output_type": "stream",
     "text": [
      "i = 0, Jeannette Bohg retweet: 0.361809 (n = 199), fav: 0.418367 (n = 196))\n",
      "i = 1, Laura Leal-Taixe retweet: 0.078947 (n = 76), fav: 0.136882 (n = 263))\n",
      "i = 2, Naomi Saphra retweet: 0.413043 (n = 184), fav: 0.362903 (n = 248))\n",
      "i = 3, Bill Gates retweet: 0.448276 (n = 29), fav: 0.348837 (n = 86))\n",
      "i = 4, Nan Rosemary Ke retweet: 0.152778 (n = 72), fav: 0.216450 (n = 231))\n",
      "i = 5, Judith MitraniReiser retweet: 0.427184 (n = 206), fav: 0.483108 (n = 296))\n",
      "i = 6, Karla Kaun retweet: 0.475113 (n = 221), fav: 0.523466 (n = 277))\n",
      "i = 7, Martha White retweet: 0.000000 (n = 2), fav: nan (n = 0))\n",
      "i = 8, Davis Bennett retweet: 0.144828 (n = 145), fav: 0.208000 (n = 250))\n",
      "i = 9, Allan Wong retweet: 1.000000 (n = 1), fav: 0.500000 (n = 2))\n",
      "i = 10, John Hodgman retweet: 0.313830 (n = 188), fav: 0.338028 (n = 284))\n",
      "i = 11, Elizabeth C. Gorski retweet: 0.262712 (n = 118), fav: 0.384615 (n = 104))\n",
      "i = 12, Ellie Heckscher retweet: 0.266234 (n = 154), fav: 0.350000 (n = 280))\n",
      "i = 13, Athena Akrami retweet: 0.292000 (n = 250), fav: 0.344156 (n = 308))\n",
      "i = 14, Anne Carpenter retweet: 0.350806 (n = 248), fav: 0.425856 (n = 263))\n",
      "i = 15, Barack Obama retweet: 0.607143 (n = 28), fav: 0.600000 (n = 5))\n",
      "i = 16, Alex Wild retweet: 0.298343 (n = 181), fav: 0.279167 (n = 240))\n",
      "i = 17, Jane Wang retweet: 0.194313 (n = 211), fav: 0.255245 (n = 286))\n",
      "i = 18, Sara Beery retweet: 0.416667 (n = 84), fav: 0.537815 (n = 238))\n",
      "i = 19, Adam L. Taylor retweet: 0.214575 (n = 247), fav: 0.850829 (n = 362))\n",
      "i = 20, Chris Potter retweet: 0.292237 (n = 219), fav: 0.329060 (n = 234))\n",
      "i = 21, Sasha Rush retweet: 0.102941 (n = 204), fav: 0.189189 (n = 259))\n",
      "i = 22, Eric Schreiter retweet: 0.214286 (n = 42), fav: 0.188172 (n = 186))\n",
      "i = 23, Alex Smola retweet: 0.075758 (n = 66), fav: 0.100000 (n = 80))\n",
      "i = 24, Edith Zimmerman retweet: 0.671569 (n = 204), fav: 0.613559 (n = 295))\n",
      "i = 25, Jen Heemstra retweet: 0.526946 (n = 167), fav: 0.581481 (n = 270))\n",
      "i = 26, Elena Rivas retweet: 0.400000 (n = 105), fav: 0.461794 (n = 301))\n",
      "i = 27, Tommy Caldwell retweet: 0.333333 (n = 3), fav: 0.200000 (n = 5))\n",
      "i = 28, David Cho retweet: 0.306452 (n = 248), fav: 0.666667 (n = 3))\n",
      "i = 29, Ted Pedersen retweet: 0.457831 (n = 83), fav: 0.625000 (n = 256))\n",
      "i = 30, Elijah Cole retweet: 0.388889 (n = 18), fav: 0.247012 (n = 251))\n",
      "i = 31, Martin Jones retweet: 0.325843 (n = 178), fav: 0.415525 (n = 219))\n",
      "i = 32, Mike Economo retweet: 0.169231 (n = 65), fav: 0.161765 (n = 68))\n",
      "i = 33, Andrew S. Champion retweet: 0.046729 (n = 107), fav: 0.090580 (n = 276))\n",
      "i = 34, Grace Vesom retweet: 0.562500 (n = 128), fav: 0.656827 (n = 271))\n",
      "i = 35, Rachel Thomas retweet: 0.632850 (n = 207), fav: 0.469534 (n = 279))\n",
      "i = 36, Shakir Mohamed retweet: 0.335260 (n = 173), fav: 0.360731 (n = 219))\n",
      "i = 37, Matt Gritzmacher retweet: 0.309524 (n = 210), fav: 0.381579 (n = 304))\n",
      "i = 38, Erich Jarvis retweet: 0.551913 (n = 183), fav: 0.710317 (n = 252))\n",
      "i = 39, Jewel Burks Solomon retweet: 0.462500 (n = 160), fav: 0.427350 (n = 234))\n",
      "i = 40, Serena Yeung retweet: 0.214286 (n = 14), fav: 0.202899 (n = 69))\n",
      "i = 41, Kay M Tye retweet: 0.510823 (n = 231), fav: 0.525253 (n = 297))\n",
      "i = 42, Silvio Savarese retweet: 0.029412 (n = 34), fav: 0.100000 (n = 20))\n",
      "i = 43, Sarah Certel retweet: 0.407407 (n = 27), fav: 0.388704 (n = 301))\n",
      "i = 44, Matthieu Louis retweet: 0.431818 (n = 44), fav: 0.516129 (n = 31))\n",
      "i = 45, Tessa Montague retweet: 0.280374 (n = 214), fav: 0.428571 (n = 266))\n",
      "i = 46, Krystyna Keleman retweet: 0.000000 (n = 2), fav: 0.388889 (n = 18))\n",
      "i = 47, Sara Hooker retweet: 0.258278 (n = 151), fav: 0.390244 (n = 246))\n",
      "i = 48, Sebastian Seung retweet: 0.224490 (n = 98), fav: 0.242574 (n = 202))\n",
      "i = 49, Noah Snavely retweet: 0.153846 (n = 104), fav: 0.248175 (n = 274))\n",
      "i = 50, Stephanie Albin retweet: 0.581395 (n = 129), fav: 0.639344 (n = 244))\n",
      "i = 51, Nando de Freitas retweet: 0.188482 (n = 191), fav: 0.152344 (n = 256))\n",
      "i = 52, Jim Keeley retweet: 0.197368 (n = 76), fav: 0.271605 (n = 162))\n",
      "i = 53, Doris Tsao retweet: 0.288591 (n = 149), fav: 0.227723 (n = 303))\n",
      "i = 54, Surya Ganguli retweet: 0.185000 (n = 200), fav: 0.263158 (n = 285))\n",
      "i = 55, karel svoboda retweet: 0.215190 (n = 79), fav: 0.313725 (n = 153))\n",
      "i = 56, Misha Ahrens retweet: 0.172727 (n = 220), fav: 0.222973 (n = 296))\n",
      "i = 57, Marius Pachitariu retweet: 0.207843 (n = 255), fav: 0.213483 (n = 267))\n",
      "i = 58, Nelson Spruston retweet: 0.300000 (n = 10), fav: 0.250000 (n = 4))\n",
      "i = 59, Ilana Witten retweet: 0.400735 (n = 272), fav: 0.446541 (n = 318))\n",
      "i = 60, Nicholas Turner retweet: 0.160000 (n = 25), fav: 0.250825 (n = 303))\n",
      "i = 61, Hanna Wallach retweet: 0.510714 (n = 280), fav: 0.531722 (n = 331))\n",
      "i = 62, Caroline Palavicino-Maggio PhD retweet: 0.216749 (n = 203), fav: 0.305085 (n = 236))\n",
      "i = 63, Misha Denil retweet: 0.059113 (n = 203), fav: 0.104545 (n = 220))\n",
      "i = 64, Yann LeCun retweet: 0.084806 (n = 283), fav: 0.126506 (n = 332))\n",
      "i = 65, Jeff Dean (@🏡) retweet: 0.244019 (n = 209), fav: 0.311111 (n = 270))\n",
      "i = 66, Fernanda Viégas retweet: 0.282609 (n = 92), fav: 0.293651 (n = 126))\n",
      "i = 67, Jakob Macke retweet: 0.153846 (n = 208), fav: 0.214058 (n = 313))\n",
      "i = 68, Adam J Calhoun retweet: 0.312500 (n = 224), fav: 0.304196 (n = 286))\n",
      "i = 69, Andrew Fitzgibbon retweet: 0.262673 (n = 217), fav: 0.231250 (n = 320))\n",
      "i = 70, Virginie Uhlmann retweet: 0.136986 (n = 73), fav: 0.235294 (n = 306))\n",
      "i = 71, Andrew Saxe retweet: 0.187500 (n = 48), fav: 0.242105 (n = 95))\n",
      "i = 72, Alice Oh retweet: 0.275000 (n = 80), fav: 0.262195 (n = 164))\n",
      "i = 73, Hugo Larochelle retweet: 0.252381 (n = 210), fav: 0.325670 (n = 261))\n",
      "i = 74, Ed Yong retweet: 0.601626 (n = 246), fav: 0.617162 (n = 303))\n",
      "i = 75, Philipp Hanslovsky retweet: 0.153061 (n = 196), fav: 0.287823 (n = 271))\n",
      "i = 76, Sandeep Robert Datta retweet: 0.237154 (n = 253), fav: 0.254417 (n = 283))\n",
      "i = 77, mark cembrowski retweet: 0.419087 (n = 241), fav: 0.481605 (n = 299))\n",
      "i = 78, Gonzalo de Polavieja retweet: 0.133333 (n = 195), fav: 0.190871 (n = 241))\n",
      "i = 79, Andrew Straw retweet: 0.176190 (n = 210), fav: 0.271478 (n = 291))\n",
      "i = 80, Andreas Kay retweet: nan (n = 0), fav: nan (n = 0))\n",
      "i = 81, Elizabeth Hillman retweet: 0.308511 (n = 94), fav: 0.355469 (n = 256))\n",
      "i = 82, Christine Käser-Chen retweet: 0.250000 (n = 56), fav: 0.425926 (n = 54))\n",
      "i = 83, John Bogovic retweet: 0.107143 (n = 168), fav: 0.274194 (n = 310))\n",
      "i = 84, Leslie Vosshall PhD retweet: 0.331683 (n = 202), fav: 0.439216 (n = 255))\n",
      "i = 85, Marcella Noorman retweet: 0.000000 (n = 2), fav: 0.307692 (n = 13))\n",
      "i = 86, Adrienne Fairhall retweet: 0.438679 (n = 212), fav: 0.422713 (n = 317))\n",
      "i = 87, Carlos Ribeiro retweet: 0.212670 (n = 221), fav: 0.349810 (n = 263))\n",
      "i = 88, Rex Parker⚾️🐘🐘🐘⚾️ retweet: 0.393939 (n = 165), fav: 0.519531 (n = 256))\n",
      "i = 89, Stephan Saalfeld retweet: 0.142857 (n = 266), fav: 0.220779 (n = 308))\n",
      "i = 90, Janelle Shane retweet: 0.529101 (n = 189), fav: 0.539130 (n = 230))\n",
      "i = 91, Jan M Ache retweet: 0.480769 (n = 52), fav: 0.340659 (n = 91))\n",
      "i = 92, John Langford retweet: 0.142857 (n = 7), fav: 0.000000 (n = 1))\n",
      "i = 93, Fred \"Replace Trump Now\" Wolf retweet: 0.497942 (n = 243), fav: 0.445255 (n = 274))\n",
      "i = 94, Juan Carlos Niebles retweet: 0.158879 (n = 107), fav: 0.301115 (n = 269))\n",
      "i = 95, Rose Yu retweet: 0.206349 (n = 126), fav: 0.185606 (n = 264))\n",
      "i = 96, Lior Pachter retweet: 0.169231 (n = 260), fav: 0.252492 (n = 301))\n",
      "i = 97, David Sussillo 🏡💻🤞🤓 retweet: 0.255814 (n = 215), fav: 0.300654 (n = 306))\n",
      "i = 98, Ann Kennedy retweet: 0.285714 (n = 56), fav: 0.346154 (n = 104))\n",
      "i = 99, Benjamin de Bivort retweet: 0.298969 (n = 291), fav: 0.317881 (n = 302))\n"
     ]
    }
   ],
   "source": [
    "# compute gender ratio info\n",
    "otherretweetinfo = []\n",
    "othernretweets = []\n",
    "otherfavinfo = []\n",
    "othernfavs = []\n",
    "for i in range(len(names1)):\n",
    "    #print('i = %d: %s -> first name = %s'%(i,sample_user_objs[i].name,names1[i][0]))\n",
    "    sample = idxsample[i]\n",
    "    namescurr = otherretweetnames[i]\n",
    "    otherretweetinfo.append(compute_gender_info(namescurr,verbose=False,sigma=2))\n",
    "    ncurr = len(otherretweetinfo[-1]['knowngs'])\n",
    "    othernretweets.append(ncurr)\n",
    "    namescurr = otherfavnames[i]\n",
    "    otherfavinfo.append(compute_gender_info(namescurr,verbose=False,sigma=2))\n",
    "    nfavcurr = len(otherfavinfo[-1]['knowngs'])\n",
    "    othernfavs.append(nfavcurr)\n",
    "    if ncurr > 0:\n",
    "        ffr = otherretweetinfo[-1]['fracfemale'][-1]\n",
    "    else:\n",
    "        ffr = np.nan\n",
    "    if nfavcurr > 0:\n",
    "        fff = otherfavinfo[-1]['fracfemale'][-1]\n",
    "    else:\n",
    "        fff = np.nan    \n",
    "    print('i = %d, %s retweet: %f (n = %d), fav: %f (n = %d))'%(i,myinfo['namesknown'][sample],ffr,ncurr,fff,nfavcurr))"
   ]
  },
  {
   "cell_type": "code",
   "execution_count": 153,
   "metadata": {},
   "outputs": [
    {
     "name": "stdout",
     "output_type": "stream",
     "text": [
      "Bad sample 7\n",
      "Bad sample 9\n",
      "Bad sample 27\n",
      "Bad sample 80\n",
      "Bad sample 85\n",
      "Bad sample 92\n",
      "Bad sample 46\n",
      "My percentile among women I follow: 45.652174\n",
      "My percentile among men I follow: 72.340426\n",
      "My percentile among people I follow: 58.996300\n",
      "Mean, median fraction of retweeted statuses from women for women I follow: 0.327448, 0.311677\n",
      "Mean, median fraction of retweeted statuses from women for men I follow: 0.269467, 0.244019\n"
     ]
    },
    {
     "data": {
      "text/plain": [
       "MannwhitneyuResult(statistic=1347.0, pvalue=0.020666258736301783)"
      ]
     },
     "execution_count": 153,
     "metadata": {},
     "output_type": "execute_result"
    },
    {
     "data": {
      "image/png": "[encoded data removed]",
      "text/plain": [
       "<Figure size 432x288 with 1 Axes>"
      ]
     },
     "metadata": {
      "needs_background": "light"
     },
     "output_type": "display_data"
    }
   ],
   "source": [
    "# plot a histogram of frac female retweet for samples and for me\n",
    "\n",
    "fracfemale_retweet_f = np.zeros(nsample_female)\n",
    "fracfemale_retweet_m = np.zeros(nsample_female)\n",
    "nsample_retweet_f = 0\n",
    "nsample_retweet_m = 0\n",
    "minnretweets = 10\n",
    "retweet_hist_range = (0.,1.)\n",
    "nbins = 25\n",
    "\n",
    "for i in range(nsample_female):\n",
    "    if othernretweets[i] < minnretweets:\n",
    "        fracfemale_retweet_f[i] = np.nan\n",
    "        print('Bad sample %d'%i)\n",
    "    else:\n",
    "        fracfemale_retweet_f[i] = otherretweetinfo[i]['fracfemale'][-1]\n",
    "        nsample_retweet_f += 1\n",
    "    if othernretweets[i+nsample_female] < minnretweets:\n",
    "        fracfemale_retweet_m[i] = np.nan\n",
    "        print('Bad sample %d'%(i+nsample_female))\n",
    "    else:\n",
    "        fracfemale_retweet_m[i] = otherretweetinfo[i+nsample_female]['fracfemale'][-1]\n",
    "        nsample_retweet_m += 1\n",
    "\n",
    "\n",
    "idxgood_f = np.isnan(fracfemale_retweet_f) == False\n",
    "idxgood_m = np.isnan(fracfemale_retweet_m) == False\n",
    "        \n",
    "myprctile_f = np.count_nonzero(fracfemale_retweet_f[idxgood_f]<=myretweetinfo['fracfemale'][-1])/nsample_retweet_f\n",
    "myprctile_m = np.count_nonzero(fracfemale_retweet_m[idxgood_m]<=myretweetinfo['fracfemale'][-1])/nsample_retweet_m\n",
    "print('My percentile among women I follow: %f'%(myprctile_f*100.))\n",
    "print('My percentile among men I follow: %f'%(myprctile_m*100.))\n",
    "print('My percentile among people I follow: %f'%((myprctile_f+myprctile_m)*50.))\n",
    "\n",
    "counts_f,edges = np.histogram(fracfemale_retweet_f[idxgood_f],bins=nbins,range=retweet_hist_range)\n",
    "counts_m,edges = np.histogram(fracfemale_retweet_m[idxgood_m],bins=nbins,range=retweet_hist_range)\n",
    "ctrs_retweet = (edges[1:]+edges[:-1])/2.\n",
    "width_retweet = edges[1]-edges[0]\n",
    "\n",
    "normcounts_f = counts_f / np.sum(counts_f)\n",
    "normcounts_m = counts_m / np.sum(counts_m)\n",
    "plt.bar(ctrs_retweet+width_retweet/5.,normcounts_f,width=width_retweet*.35,color=colorf,label='Female')\n",
    "plt.bar(ctrs_retweet-width_retweet/5.,normcounts_m,width=width_retweet*.35,color=colorm,label='Male')\n",
    "ylim = plt.gca().get_ylim()\n",
    "plt.plot([myretweetinfo['fracfemale'][-1]]*2,ylim,'k-',lw=3,label='Me')\n",
    "plt.gca().set_ylim(ylim)\n",
    "plt.legend()\n",
    "plt.xlabel('Fraction female')\n",
    "plt.ylabel('Number of users')\n",
    "plt.title('Retweet gender ratio for people I follow on Twitter')\n",
    "\n",
    "print('Mean, median fraction of retweeted statuses from women for women I follow: %f, %f'%(np.mean(fracfemale_retweet_f[idxgood_f]),np.median(fracfemale_retweet_f[idxgood_f])))\n",
    "print('Mean, median fraction of retweeted statuses from women for men I follow: %f, %f'%(np.mean(fracfemale_retweet_m[idxgood_m]),np.median(fracfemale_retweet_m[idxgood_m])))\n",
    "\n",
    "stats.mannwhitneyu(fracfemale_retweet_f[idxgood_f],fracfemale_retweet_m[idxgood_m],alternative='greater')\n"
   ]
  },
  {
   "cell_type": "code",
   "execution_count": 152,
   "metadata": {},
   "outputs": [
    {
     "name": "stdout",
     "output_type": "stream",
     "text": [
      "Bad sample 7\n",
      "Bad sample 58\n",
      "Bad sample 9\n",
      "Bad sample 15\n",
      "Bad sample 27\n",
      "Bad sample 28\n",
      "Bad sample 80\n",
      "Bad sample 92\n",
      "My percentile among women I follow: 33.333333\n",
      "My percentile among men I follow: 53.191489\n",
      "My percentile among people I follow: 43.262411\n",
      "Mean, median fraction of favorited statuses from women for women I follow: 0.375659, 0.381579\n",
      "Mean, median fraction of favorited statuses from women for men I follow: 0.317803, 0.300654\n"
     ]
    },
    {
     "data": {
      "text/plain": [
       "MannwhitneyuResult(statistic=1282.0, pvalue=0.04009198093587479)"
      ]
     },
     "execution_count": 152,
     "metadata": {},
     "output_type": "execute_result"
    },
    {
     "data": {
      "image/png": "[encoded data removed]",
      "text/plain": [
       "<Figure size 432x288 with 1 Axes>"
      ]
     },
     "metadata": {
      "needs_background": "light"
     },
     "output_type": "display_data"
    }
   ],
   "source": [
    "# plot histogram of frac female favorite for samples and for me\n",
    "\n",
    "fracfemale_fav_f = np.zeros(nsample_female)\n",
    "fracfemale_fav_m = np.zeros(nsample_female)\n",
    "nsample_fav_f = 0\n",
    "nsample_fav_m = 0\n",
    "minnfavs = 10\n",
    "for i in range(nsample_female):\n",
    "    if othernfavs[i] < minnfavs:\n",
    "        fracfemale_fav_f[i] = np.nan\n",
    "        print('Bad sample %d'%i)\n",
    "    else:\n",
    "        fracfemale_fav_f[i] = otherfavinfo[i]['fracfemale'][-1]\n",
    "        nsample_fav_f += 1\n",
    "    if othernfavs[i+nsample_female] < minnfavs:\n",
    "        fracfemale_fav_m[i] = np.nan\n",
    "        print('Bad sample %d'%(i+nsample_female))\n",
    "    else:\n",
    "        fracfemale_fav_m[i] = otherfavinfo[i+nsample_female]['fracfemale'][-1]\n",
    "        nsample_fav_m += 1\n",
    "\n",
    "\n",
    "idxgood_f = np.isnan(fracfemale_fav_f) == False\n",
    "idxgood_m = np.isnan(fracfemale_fav_m) == False\n",
    "        \n",
    "myprctile_f = np.count_nonzero(fracfemale_fav_f[idxgood_f]<=myfavinfo['fracfemale'][-1])/nsample_fav_f\n",
    "myprctile_m = np.count_nonzero(fracfemale_fav_m[idxgood_m]<=myfavinfo['fracfemale'][-1])/nsample_fav_m\n",
    "print('My percentile among women I follow: %f'%(myprctile_f*100.))\n",
    "print('My percentile among men I follow: %f'%(myprctile_m*100.))\n",
    "print('My percentile among people I follow: %f'%((myprctile_f+myprctile_m)*50.))\n",
    "\n",
    "counts_f,edges = np.histogram(fracfemale_fav_f[idxgood_f],bins=nbins,range=retweet_hist_range)\n",
    "counts_m,edges = np.histogram(fracfemale_fav_m[idxgood_m],bins=nbins,range=retweet_hist_range)\n",
    "ctrs_fav = (edges[1:]+edges[:-1])/2.\n",
    "width_fav = edges[1]-edges[0]\n",
    "normcounts_f = counts_f / np.sum(counts_f)\n",
    "normcounts_m = counts_m / np.sum(counts_m)\n",
    "plt.bar(ctrs_fav+width_fav/5.,normcounts_f,width=width_fav*.35,color=colorf,label='Female')\n",
    "plt.bar(ctrs_fav-width_fav/5.,normcounts_m,width=width_fav*.35,color=colorm,label='Male')\n",
    "ylim = plt.gca().get_ylim()\n",
    "plt.plot([myfavinfo['fracfemale'][-1]]*2,ylim,'k-',lw=3,label='Me')\n",
    "plt.gca().set_ylim(ylim)\n",
    "plt.legend()\n",
    "plt.xlabel('Fraction female')\n",
    "plt.ylabel('Number of users')\n",
    "plt.title('Favorite gender ratio for people I follow on Twitter')\n",
    "\n",
    "print('Mean, median fraction of favorited statuses from women for women I follow: %f, %f'%(np.mean(fracfemale_fav_f[idxgood_f]),np.median(fracfemale_fav_f[idxgood_f])))\n",
    "print('Mean, median fraction of favorited statuses from women for men I follow: %f, %f'%(np.mean(fracfemale_fav_m[idxgood_m]),np.median(fracfemale_fav_m[idxgood_m])))\n",
    "\n",
    "stats.mannwhitneyu(fracfemale_fav_f[idxgood_f],fracfemale_fav_m[idxgood_m],alternative='greater')"
   ]
  },
  {
   "cell_type": "code",
   "execution_count": 149,
   "metadata": {},
   "outputs": [
    {
     "name": "stdout",
     "output_type": "stream",
     "text": [
      "Mean, median fraction of retweeted statuses from women: 0.298145, 0.280374\n",
      "Mean, median fraction of favorited statuses from women: 0.346102, 0.321776\n"
     ]
    },
    {
     "data": {
      "text/plain": [
       "MannwhitneyuResult(statistic=3464.5, pvalue=0.012791159375702027)"
      ]
     },
     "execution_count": 149,
     "metadata": {},
     "output_type": "execute_result"
    },
    {
     "data": {
      "image/png": "[encoded data removed]",
      "text/plain": [
       "<Figure size 432x288 with 1 Axes>"
      ]
     },
     "metadata": {
      "needs_background": "light"
     },
     "output_type": "display_data"
    }
   ],
   "source": [
    "# plot histogram for retweets vs favorites\n",
    "\n",
    "ff_retweet_x = np.concatenate((fracfemale_retweet_f,fracfemale_retweet_m),0)\n",
    "ff_fav_x = np.concatenate((fracfemale_fav_f,fracfemale_fav_m),0)\n",
    "\n",
    "idxgood_retweet = np.isnan(ff_retweet_x) == False\n",
    "idxgood_fav = np.isnan(ff_fav_x) == False\n",
    "\n",
    "counts_retweet,edges = np.histogram(ff_retweet_x[idxgood_retweet],bins=nbins,range=retweet_hist_range)\n",
    "counts_fav,edges = np.histogram(ff_fav_x[idxgood_fav],bins=nbins,range=retweet_hist_range)\n",
    "ctrs = (edges[1:]+edges[:-1])/2.\n",
    "width = edges[1]-edges[0]\n",
    "normcounts_retweet = counts_retweet / np.sum(counts_retweet)\n",
    "normcounts_fav = counts_fav / np.sum(counts_fav)\n",
    "plt.bar(ctrs+width/5.,normcounts_retweet,width=width*.35,color=colorretweet,label='Retweet')\n",
    "plt.bar(ctrs-width/5.,normcounts_fav,width=width*.35,color=colorfav,label='Favorite')\n",
    "# ylim = plt.gca().get_ylim()\n",
    "# plt.plot([myretweetinfo['fracfemale'][-1]]*2,ylim,'k-',lw=3,label='Me')\n",
    "# plt.gca().set_ylim(ylim)\n",
    "plt.legend()\n",
    "plt.xlabel('Fraction female')\n",
    "plt.ylabel('Fraction of users')\n",
    "plt.title('Retweet vs favorite gender ratio for people I follow on Twitter')\n",
    "\n",
    "print('Mean, median fraction of retweeted statuses from women: %f, %f'%(np.mean(ff_retweet_x[idxgood_retweet]),np.median(ff_retweet_x[idxgood_retweet])))\n",
    "print('Mean, median fraction of favorited statuses from women: %f, %f'%(np.mean(ff_fav_x[idxgood_fav]),np.median(ff_fav_x[idxgood_fav])))\n",
    "\n",
    "stats.mannwhitneyu(ff_retweet_x[idxgood_retweet],ff_fav_x[idxgood_fav])\n"
   ]
  },
  {
   "cell_type": "code",
   "execution_count": 122,
   "metadata": {},
   "outputs": [],
   "source": [
    "import pickle\n",
    "filename = 'C:/Code/TwitterGenderRatio/test20200517.pickle'\n",
    "fid = open(filename,'wb')\n",
    "pickle.dump({'ids': ids, 'names': names,'idxsample': idxsample, 'names1': names1, 'ids1': ids1,\n",
    "            'myretweetnames': myretweetnames,'myretweettypes': myretweettypes,'myisretweet': myisretweet,\n",
    "            'myfavnames': myfavnames,'otherretweetnames': otherretweetnames,'otherfavnames': otherfavnames},fid)\n",
    "fid.close()"
   ]
  }
 ],
 "metadata": {
  "kernelspec": {
   "display_name": "Python 3",
   "language": "python",
   "name": "python3"
  },
  "language_info": {
   "codemirror_mode": {
    "name": "ipython",
    "version": 3
   },
   "file_extension": ".py",
   "mimetype": "text/x-python",
   "name": "python",
   "nbconvert_exporter": "python",
   "pygments_lexer": "ipython3",
   "version": "3.7.7"
  }
 },
 "nbformat": 4,
 "nbformat_minor": 4
}
