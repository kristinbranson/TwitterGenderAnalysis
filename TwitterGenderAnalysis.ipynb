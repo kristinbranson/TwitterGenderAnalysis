{
 "cells": [
  {
   "cell_type": "code",
   "execution_count": 53,
   "metadata": {},
   "outputs": [],
   "source": [
    "# Estimate the fraction of people you follow on Twitter that are female. \n",
    "# In 2020, 39% of Twitter users are female. \n",
    "# https://www.statista.com/statistics/828092/distribution-of-users-on-twitter-worldwide-gender/\n",
    "# To put this in context, estimate the same for people you follow.\n",
    "# Uses tweepy and gender_guesser packages.\n",
    "#\n",
    "# To use the Twitter API, you must create a Developer application:\n",
    "# https://apps.twitter.com/\n",
    "# Select the Create New App button and fill out the application information.\n",
    "# You will ultimately need the following pieces of information:\n",
    "#\n",
    "#    API key\n",
    "#    API secret key\n",
    "#    Access token\n",
    "#    Access token secret\n",
    "# \n",
    "# These should be stored in a CSV file that looks like:\n",
    "# API key,XXXXXXXXXXXXXXXXXXXXXXXXX\n",
    "# API secret key,XXXXXXXXXXXXXXXXXXXXXXXXXXXXXXXXXXXXXXXXXXXXXXXXXX\n",
    "# Access token,XXXXXXXXXXXXXXXXXXXXXXXXXXXXXXXXXXXXXXXXXXXXXXXXXX\n",
    "# Access token secret,XXXXXXXXXXXXXXXXXXXXXXXXXXXXXXXXXXXXXXXXXXXXX"
   ]
  },
  {
   "cell_type": "code",
   "execution_count": 1,
   "metadata": {},
   "outputs": [],
   "source": [
    "# set up environment\n",
    "import numpy as np\n",
    "import tweepy\n",
    "import matplotlib.pyplot as plt\n",
    "import gender_guesser.detector as gender\n",
    "import re\n",
    "import scipy\n",
    "import scipy.ndimage as ndimage\n",
    "import scipy.stats as stats\n",
    "import scipy.interpolate as interpolate\n",
    "import matplotlib.colors as mcolors\n",
    "import csv"
   ]
  },
  {
   "cell_type": "code",
   "execution_count": 2,
   "metadata": {},
   "outputs": [],
   "source": [
    "# set up tweepy authentication\n",
    "\n",
    "# edit authfile to point to CSV file with your Twitter application information\n",
    "authfile = 'C:\\Users\\bransonk\\.twitter\\KristinsGenderRatioAnalysis.csv'\n",
    "# edit rootusername to be your screen name on Twitter\n",
    "rootusername = 'kristinmbranson'\n",
    "\n",
    "authinfo = {}\n",
    "with open(authfile) as csvfile:\n",
    "    csvreader = csv.reader(csvfile,delimiter=',')\n",
    "    for row in csvreader:\n",
    "        authinfo[row[0]] = row[1]\n",
    "\n",
    "#print(authinfo)\n",
    "auth = tweepy.OAuthHandler(authinfo['API key'], authinfo['API secret key'])\n",
    "auth.set_access_token(authinfo['Access token'],authinfo['Access token secret'])\n",
    "api = tweepy.API(auth,wait_on_rate_limit=True,\n",
    "                 wait_on_rate_limit_notify=True)\n"
   ]
  },
  {
   "cell_type": "code",
   "execution_count": 3,
   "metadata": {},
   "outputs": [],
   "source": [
    "# gets the names and ids of followers for an input id/screen name\n",
    "def get_following_names(id,api,batchsize = 100,ids1=None):\n",
    "    if ids1 is None:\n",
    "        ids1 = api.friends_ids(id)\n",
    "    namescurr = []\n",
    "    for i0 in range(0,len(ids1),batchsize):\n",
    "        i1 = min(len(ids1),i0+batchsize)\n",
    "        user_objs = api.lookup_users(user_ids=ids1[i0:i1])\n",
    "        namescurr = namescurr + list(map(lambda x: x.name,user_objs))\n",
    "    namescurr.reverse()\n",
    "    ids1.reverse()\n",
    "    return namescurr,ids1"
   ]
  },
  {
   "cell_type": "code",
   "execution_count": 4,
   "metadata": {},
   "outputs": [],
   "source": [
    "# classifies gender of names, and computes some statistics\n",
    "def compute_gender_info(names,ids,verbose=False,sigma = 5):\n",
    "    # \"names\" that mean this is likely not a name\n",
    "    badnames = ['Lab','lab','The','the','Stanford','Mag','Club','Adventure','Rock','Conference','Global','HHMI','Amazon','Google','Facebook','ICLR']\n",
    "\n",
    "    # gender indicators\n",
    "    kwfemale = ['female','mostly_female']\n",
    "    kwmale = ['male','mostly_male']\n",
    "    \n",
    "    # classify gender\n",
    "    d = gender.Detector()\n",
    "    gs = []\n",
    "    firstnames = []\n",
    "    for name in names:\n",
    "        nameparts = re.split('\\s+',name)\n",
    "        if not list(filter(lambda x: x in badnames,nameparts)) == []:\n",
    "            if verbose:\n",
    "                print('%s contains name we are ignoring'%name)\n",
    "            gs.append('unknown')\n",
    "        else:\n",
    "            gs.append(d.get_gender(nameparts[0].capitalize()))\n",
    "        if verbose: print('%s -> %s -> %s'%(name,nameparts[0],gs[-1]))\n",
    "    \n",
    "    # get info for names that we could classify\n",
    "    kwknown = kwfemale + kwmale\n",
    "    isknown = list(map(lambda x: x in kwknown,gs))\n",
    "    knowngs = list(filter(lambda x: x in kwknown,gs))\n",
    "    isfemale = list(map(lambda x: x in kwfemale,knowngs))\n",
    "    ismale = list(map(lambda x: x in kwmale,knowngs))\n",
    "    idsknown = []\n",
    "    namesknown = []\n",
    "    gsknown = []\n",
    "    for i in range(len(isknown)):\n",
    "        if isknown[i]:\n",
    "            idsknown.append(ids[i])\n",
    "            namesknown.append(names[i])\n",
    "            gsknown.append(gs[i])\n",
    "            \n",
    "    # fraction female over time\n",
    "    num = np.cumsum(np.array(isfemale))\n",
    "    den = np.arange(len(isfemale))+1\n",
    "    fracfemale = num/den\n",
    "    fracfemale_filtered = ndimage.gaussian_filter(fracfemale,sigma,mode='nearest')\n",
    "    \n",
    "    res = {'gs': gs, 'isknown': isknown,'isfemale': isfemale,'ismale': ismale,\n",
    "           'knowngs': knowngs,'namesknown': namesknown,\n",
    "           'fracfemale': fracfemale,'fracfemale_filtered': fracfemale_filtered,\n",
    "           'names': names, 'idsknown': idsknown,'gsknown': gsknown}\n",
    "    return res\n",
    "    "
   ]
  },
  {
   "cell_type": "code",
   "execution_count": 5,
   "metadata": {},
   "outputs": [],
   "source": [
    "# chooses random samples from people you follow with at least minnfollowing people they are following\n",
    "def choose_samples_helper(idx,myinfo,api,nsample=20,minnfollowing=100,verbose=False):\n",
    "    isselected = np.zeros(idx.shape,dtype=bool)\n",
    "    idxsample = []\n",
    "    ids1 = []\n",
    "\n",
    "    while True:\n",
    "        if np.all(isselected) or len(idxsample) >= nsample:\n",
    "            break\n",
    "        idxcurr, = np.nonzero(isselected==False)\n",
    "        i = np.random.randint(0,len(idxcurr)) # indexes into idxcurr\n",
    "        i = idxcurr[i] # indexes into isselected\n",
    "        isselected[i] = True\n",
    "        i = idx[i] # indexes into myinfo\n",
    "        id = myinfo['idsknown'][i]\n",
    "        idscurr = api.friends_ids(id)\n",
    "        if verbose:\n",
    "            print('%d: selected %d (%s), nfollowing = %d'%(len(idxsample),id,\n",
    "                                                           myinfo['namesknown'][i],\n",
    "                                                           len(idscurr)))\n",
    "        if len(idscurr) >= minnfollowing:\n",
    "            print('Adding')\n",
    "            idxsample.append(i)\n",
    "            ids1.append(idscurr)\n",
    "    return (idxsample,ids1)\n",
    "\n",
    "def choose_samples(myinfo,nsample=20,minnfollowing=100,verbose=False):\n",
    "    \n",
    "    isfemale = np.array(myinfo['isfemale'])\n",
    "    idxfemale, = np.nonzero(isfemale)\n",
    "    idxmale, = np.nonzero(isfemale==False)\n",
    "\n",
    "    idxsample_female,ids1_female = \\\n",
    "        choose_samples_helper(idxfemale,myinfo,api,nsample=nsample,minnfollowing=minnfollowing,verbose=verbose)\n",
    "    idxsample_male,ids1_male = \\\n",
    "        choose_samples_helper(idxmale,myinfo,api,nsample=nsample,minnfollowing=minnfollowing,verbose=verbose)\n",
    "\n",
    "    nsample_female = len(idxsample_female)\n",
    "    nsample_male = len(idxsample_male)\n",
    "    ids1 = ids1_female + ids1_male\n",
    "    idxsample = idxsample_female + idxsample_male\n",
    "    \n",
    "    return idxsample,ids1,nsample_female,nsample_male\n",
    "    "
   ]
  },
  {
   "cell_type": "code",
   "execution_count": null,
   "metadata": {},
   "outputs": [],
   "source": [
    "# # load data from file\n",
    "\n",
    "# import pickle\n",
    "# filename = 'C:/Code/TwitterGenderRatio/test.pickle'\n",
    "# fid = open(filename,'rb')\n",
    "# res = pickle.load(fid)\n",
    "# fid.close()\n",
    "\n",
    "# ids = res['ids']\n",
    "# names = res['names']\n",
    "# idxsample = res['idxsample']\n",
    "# names1 = res['names1']\n",
    "# ids1 = res['ids1']\n",
    "# nsample = len(idxsample)//2"
   ]
  },
  {
   "cell_type": "code",
   "execution_count": 6,
   "metadata": {},
   "outputs": [
    {
     "name": "stdout",
     "output_type": "stream",
     "text": [
      "Number following: 322\n"
     ]
    }
   ],
   "source": [
    "# get names & ids of people I follow\n",
    "names,ids = get_following_names(rootusername,api)\n",
    "print('Number following: %d'%len(names))"
   ]
  },
  {
   "cell_type": "code",
   "execution_count": 7,
   "metadata": {},
   "outputs": [
    {
     "name": "stdout",
     "output_type": "stream",
     "text": [
      "Fraction of people I follow who are female: 0.349754\n"
     ]
    },
    {
     "data": {
      "text/plain": [
       "Text(0, 0.5, 'Fraction female')"
      ]
     },
     "execution_count": 7,
     "metadata": {},
     "output_type": "execute_result"
    },
    {
     "data": {
      "image/png": "[encoded data removed]",
      "text/plain": [
       "<Figure size 432x288 with 1 Axes>"
      ]
     },
     "metadata": {
      "needs_background": "light"
     },
     "output_type": "display_data"
    }
   ],
   "source": [
    "# classify gender based on first name\n",
    "sigma = 5\n",
    "myinfo = compute_gender_info(names,ids,verbose=False,sigma=sigma)\n",
    "print('Fraction of people I follow who are female: %f'%myinfo['fracfemale'][-1])\n",
    "\n",
    "# plot fraction female\n",
    "plt.plot(myinfo['fracfemale_filtered'][5*sigma:-5*sigma])\n",
    "plt.xlabel('Something related to time')\n",
    "plt.ylabel('Fraction female')\n"
   ]
  },
  {
   "cell_type": "code",
   "execution_count": 8,
   "metadata": {},
   "outputs": [
    {
     "name": "stdout",
     "output_type": "stream",
     "text": [
      "0: selected 207665930 (Serena Yeung), nfollowing = 120\n",
      "Adding\n",
      "1: selected 1359059238 (Dima Damen), nfollowing = 341\n",
      "Adding\n",
      "2: selected 19563103 (Gwen Pearson), nfollowing = 841\n",
      "Adding\n",
      "3: selected 1890694861 (Rose Yu), nfollowing = 294\n",
      "Adding\n",
      "4: selected 731538535795163136 (Sara Hooker), nfollowing = 1682\n",
      "Adding\n",
      "5: selected 737478121079906304 (Judith MitraniReiser), nfollowing = 676\n",
      "Adding\n",
      "6: selected 178588367 (Karla Kaun), nfollowing = 839\n",
      "Adding\n",
      "7: selected 345129453 (Nan Rosemary Ke), nfollowing = 338\n",
      "Adding\n",
      "8: selected 35269421 (Ellie Heckscher), nfollowing = 516\n",
      "Adding\n",
      "9: selected 2369329526 (Ulrike Boehm 🔬👩🏻‍💻), nfollowing = 286\n",
      "Adding\n",
      "10: selected 1135303672219545600 (Marcella Noorman), nfollowing = 45\n",
      "10: selected 2577596593 (Chelsea Finn), nfollowing = 244\n",
      "Adding\n",
      "11: selected 217852227 (Elizabeth C. Gorski), nfollowing = 630\n",
      "Adding\n"
     ]
    },
    {
     "name": "stderr",
     "output_type": "stream",
     "text": [
      "Rate limit reached. Sleeping for: 871\n"
     ]
    },
    {
     "name": "stdout",
     "output_type": "stream",
     "text": [
      "12: selected 1237734334385344512 (Mai Morimoto), nfollowing = 173\n",
      "Adding\n",
      "13: selected 3318332379 (Ilana Witten), nfollowing = 602\n",
      "Adding\n",
      "14: selected 1431348835 (Anne Carpenter), nfollowing = 1117\n",
      "Adding\n",
      "15: selected 1237147828704575488 (Sara Beery), nfollowing = 759\n",
      "Adding\n",
      "16: selected 36819554 (Megan Carey), nfollowing = 933\n",
      "Adding\n",
      "17: selected 22385548 (Jane Wang), nfollowing = 339\n",
      "Adding\n",
      "18: selected 908902292 (Marta Costa), nfollowing = 207\n",
      "Adding\n",
      "19: selected 875432666555965444 (Krystyna Keleman), nfollowing = 213\n",
      "Adding\n",
      "20: selected 3072541911 (Stephanie Albin), nfollowing = 498\n",
      "Adding\n",
      "21: selected 788467623629500416 (Doris Tsao), nfollowing = 252\n",
      "Adding\n",
      "22: selected 2389878942 (Emily Behrman), nfollowing = 340\n",
      "Adding\n",
      "23: selected 950751996084150272 (Larissa Heinrich), nfollowing = 86\n",
      "23: selected 843706252517502977 (Christine Käser-Chen), nfollowing = 184\n",
      "Adding\n",
      "24: selected 45675087 (Devi Parikh), nfollowing = 125\n",
      "Adding\n",
      "25: selected 2704715387 (Jen Heemstra), nfollowing = 5000\n",
      "Adding\n",
      "26: selected 246226577 (Salma Elmalaki), nfollowing = 132\n",
      "Adding\n"
     ]
    },
    {
     "name": "stderr",
     "output_type": "stream",
     "text": [
      "Rate limit reached. Sleeping for: 897\n"
     ]
    },
    {
     "name": "stdout",
     "output_type": "stream",
     "text": [
      "27: selected 305092591 (Emma Brunskill), nfollowing = 52\n",
      "27: selected 43406294 (renan ozturk), nfollowing = 176\n",
      "Adding\n",
      "28: selected 19087450 (Edith Zimmerman), nfollowing = 989\n",
      "Adding\n",
      "29: selected 215113195 (Naomi Saphra), nfollowing = 1011\n",
      "Adding\n",
      "30: selected 979697205664800768 (Elizabeth Hillman), nfollowing = 815\n",
      "Adding\n",
      "31: selected 959028649528840192 (Virginie Uhlmann), nfollowing = 159\n",
      "Adding\n",
      "32: selected 870108900128903169 (Claire Deo), nfollowing = 285\n",
      "Adding\n",
      "33: selected 2405083879 (eugenia chiappe), nfollowing = 422\n",
      "Adding\n",
      "34: selected 25320089 (Grace Vesom), nfollowing = 387\n",
      "Adding\n",
      "35: selected 16520284 (Alice Oh), nfollowing = 436\n",
      "Adding\n",
      "36: selected 748267272939020293 (Laura Leal-Taixe), nfollowing = 60\n",
      "36: selected 2172505322 (Kathryn Brown), nfollowing = 27\n",
      "36: selected 535136727 (Dawn Song), nfollowing = 704\n",
      "Adding\n",
      "37: selected 842164502422417409 (Adrienne Fairhall), nfollowing = 276\n",
      "Adding\n",
      "38: selected 16017475 (Nate Silver), nfollowing = 1288\n",
      "Adding\n"
     ]
    },
    {
     "name": "stderr",
     "output_type": "stream",
     "text": [
      "Rate limit reached. Sleeping for: 896\n"
     ]
    },
    {
     "name": "stdout",
     "output_type": "stream",
     "text": [
      "39: selected 159315527 (Jewel Burks Solomon), nfollowing = 3858\n",
      "Adding\n",
      "40: selected 822090549490499585 (Nadine Gogolla), nfollowing = 749\n",
      "Adding\n",
      "41: selected 28912478 (Leslie Vosshall PhD), nfollowing = 497\n",
      "Adding\n",
      "42: selected 925800751628279808 (Nan Jiang), nfollowing = 46\n",
      "42: selected 1235552122957115394 (Carolina Wählby), nfollowing = 0\n",
      "42: selected 869862586610851840 (Jeannette Bohg), nfollowing = 254\n",
      "Adding\n",
      "43: selected 700532262165676033 (Sarah Certel), nfollowing = 247\n",
      "Adding\n",
      "44: selected 21828411 (Erin LeDell), nfollowing = 4995\n",
      "Adding\n",
      "45: selected 2869101210 (Jenn Wortman Vaughan), nfollowing = 354\n",
      "Adding\n",
      "46: selected 1143074659291680768 (Ann Kennedy), nfollowing = 169\n",
      "Adding\n",
      "47: selected 2460047754 (Janelle Shane), nfollowing = 885\n",
      "Adding\n",
      "48: selected 543919023 (Martha White), nfollowing = 52\n",
      "48: selected 276643081 (Cori Bargmann), nfollowing = 732\n",
      "Adding\n",
      "49: selected 1035389878605885440 (Athena Akrami), nfollowing = 356\n",
      "Adding\n"
     ]
    },
    {
     "name": "stderr",
     "output_type": "stream",
     "text": [
      "Rate limit reached. Sleeping for: 896\n"
     ]
    },
    {
     "name": "stdout",
     "output_type": "stream",
     "text": [
      "0: selected 14986849 (Alex Smola), nfollowing = 67\n",
      "0: selected 828056721750896640 (mark cembrowski), nfollowing = 404\n",
      "Adding\n",
      "1: selected 29843511 (Nando de Freitas), nfollowing = 358\n",
      "Adding\n",
      "2: selected 261789755 (jeremy freeman), nfollowing = 1572\n",
      "Adding\n",
      "3: selected 791306523062497280 (Wyatt Korff), nfollowing = 13\n",
      "3: selected 234270825 (Ken Jennings), nfollowing = 551\n",
      "Adding\n",
      "4: selected 190138220 (Jonathan Pillow), nfollowing = 1153\n",
      "Adding\n",
      "5: selected 27648853 (Peter), nfollowing = 1018\n",
      "Adding\n",
      "6: selected 433741920 (Marius Pachitariu), nfollowing = 1008\n",
      "Adding\n",
      "7: selected 769978990706720768 (Raphael Turcotte), nfollowing = 161\n",
      "Adding\n",
      "8: selected 780291008 (karel svoboda), nfollowing = 226\n",
      "Adding\n",
      "9: selected 1033383109440356352 (Oisin Mac Aodha), nfollowing = 326\n",
      "Adding\n",
      "10: selected 128781736 (Sasha DiGiulian), nfollowing = 620\n",
      "Adding\n",
      "11: selected 1014691 (David Cho), nfollowing = 593\n",
      "Adding\n",
      "12: selected 1150552125065355264 (Jan Funke), nfollowing = 55\n",
      "12: selected 18098674 (Brendan Quigley), nfollowing = 79\n"
     ]
    },
    {
     "name": "stderr",
     "output_type": "stream",
     "text": [
      "Rate limit reached. Sleeping for: 896\n"
     ]
    },
    {
     "name": "stdout",
     "output_type": "stream",
     "text": [
      "12: selected 1193222240202035200 (Andrew Saxe), nfollowing = 186\n",
      "Adding\n",
      "13: selected 197684961 (Misha Denil), nfollowing = 952\n",
      "Adding\n",
      "14: selected 48008938 (Yann LeCun), nfollowing = 282\n",
      "Adding\n",
      "15: selected 911297187664949248 (Jeff Dean (@🏡)), nfollowing = 3100\n",
      "Adding\n",
      "16: selected 172101003 (Greg Jefferis), nfollowing = 783\n",
      "Adding\n",
      "17: selected 1242216846033473537 (Manuel Mohr), nfollowing = 59\n",
      "17: selected 56786888 (Martin Jones), nfollowing = 3935\n",
      "Adding\n",
      "18: selected 636023721 (Adam J Calhoun), nfollowing = 1026\n",
      "Adding\n",
      "19: selected 919035620 (Matthieu Louis), nfollowing = 35\n",
      "19: selected 53514472 (Andrew Fitzgibbon), nfollowing = 461\n",
      "Adding\n",
      "20: selected 19301221 (Andrew S. Champion), nfollowing = 248\n",
      "Adding\n",
      "21: selected 50393960 (Bill Gates), nfollowing = 218\n",
      "Adding\n",
      "22: selected 149895490 (Gonzalo de Polavieja), nfollowing = 1046\n",
      "Adding\n",
      "23: selected 3333052551 (Hugo Larochelle), nfollowing = 527\n",
      "Adding\n",
      "24: selected 1026931440280391687 (Kaspar Podgorski), nfollowing = 203\n",
      "Adding\n"
     ]
    },
    {
     "name": "stderr",
     "output_type": "stream",
     "text": [
      "Rate limit reached. Sleeping for: 896\n"
     ]
    },
    {
     "name": "stdout",
     "output_type": "stream",
     "text": [
      "25: selected 3111733301 (Daniel Gonzales), nfollowing = 926\n",
      "Adding\n",
      "26: selected 1400517288 (Sandeep Robert Datta), nfollowing = 802\n",
      "Adding\n",
      "27: selected 938416059962609665 (Mike Economo), nfollowing = 578\n",
      "Adding\n",
      "28: selected 223734352 (Matt Gritzmacher), nfollowing = 531\n",
      "Adding\n",
      "29: selected 16055364 (Il Memming Park), nfollowing = 1612\n",
      "Adding\n",
      "30: selected 3192303453 (Andreas Kay), nfollowing = 10\n",
      "30: selected 51582812 (Stephen Holtz), nfollowing = 827\n",
      "Adding\n",
      "31: selected 813286 (Barack Obama), nfollowing = 5000\n",
      "Adding\n",
      "32: selected 14348594 (John Hodgman), nfollowing = 3860\n",
      "Adding\n",
      "33: selected 2848165007 (John Bogovic), nfollowing = 463\n",
      "Adding\n",
      "34: selected 122080635 (Sebastian Seung), nfollowing = 292\n",
      "Adding\n",
      "35: selected 15035863 (Noah Snavely), nfollowing = 378\n",
      "Adding\n",
      "36: selected 1210596212140892160 (John Langford), nfollowing = 21\n",
      "36: selected 19767193 (Ed Yong), nfollowing = 1674\n",
      "Adding\n"
     ]
    },
    {
     "name": "stderr",
     "output_type": "stream",
     "text": [
      "Rate limit reached. Sleeping for: 897\n"
     ]
    },
    {
     "name": "stdout",
     "output_type": "stream",
     "text": [
      "37: selected 314158631 (Erich Jarvis), nfollowing = 371\n",
      "Adding\n",
      "38: selected 14230012 (Rex Parker⚾️🐘🐘🐘⚾️), nfollowing = 359\n",
      "Adding\n",
      "39: selected 1173981576046227457 (David E. Clapham), nfollowing = 6\n",
      "39: selected 930090512 (Stephan Saalfeld), nfollowing = 154\n",
      "Adding\n",
      "40: selected 31936449 (Lior Pachter), nfollowing = 1287\n",
      "Adding\n",
      "41: selected 33362653 (Trace Henry), nfollowing = 2653\n",
      "Adding\n",
      "42: selected 14162415 (Ryan North), nfollowing = 897\n",
      "Adding\n",
      "43: selected 221304470 (David Schoppik), nfollowing = 1015\n",
      "Adding\n",
      "44: selected 430783446 (Michael Chabon), nfollowing = 38\n",
      "44: selected 809072402282016768 (Daniel Jiwoong Im), nfollowing = 509\n",
      "Adding\n",
      "45: selected 2847954257 (Frank), nfollowing = 145\n",
      "Adding\n",
      "46: selected 29905013 (Peter Gordon), nfollowing = 28\n",
      "46: selected 4558314927 (Sasha Rush), nfollowing = 325\n",
      "Adding\n",
      "47: selected 946827254901936130 (Davis Bennett), nfollowing = 77\n",
      "47: selected 22445339 (Fred \"Replace Trump Now\" Wolf), nfollowing = 408\n",
      "Adding\n",
      "48: selected 2835683058 (Silvio Savarese), nfollowing = 28\n"
     ]
    },
    {
     "name": "stderr",
     "output_type": "stream",
     "text": [
      "Rate limit reached. Sleeping for: 896\n"
     ]
    },
    {
     "name": "stdout",
     "output_type": "stream",
     "text": [
      "48: selected 57663013 (Jesse Marshall), nfollowing = 191\n",
      "Adding\n",
      "49: selected 259568572 (Benjamin de Bivort), nfollowing = 1031\n",
      "Adding\n"
     ]
    }
   ],
   "source": [
    "# choose some random following\n",
    "nsample = 50\n",
    "minnfollowing = 100\n",
    "idxsample,ids1,nsample_female,nsample_male = \\\n",
    "    choose_samples(myinfo,nsample=nsample,minnfollowing=minnfollowing,verbose=True)\n",
    "\n",
    "assert nsample==nsample_female and nsample==nsample_male,'Did not find enough samples with minnfollowing = %d'%minnfollowing"
   ]
  },
  {
   "cell_type": "code",
   "execution_count": 9,
   "metadata": {},
   "outputs": [
    {
     "name": "stdout",
     "output_type": "stream",
     "text": [
      "Female samples:\n",
      "['Serena Yeung', 'Dima Damen', 'Gwen Pearson', 'Rose Yu', 'Sara Hooker', 'Judith MitraniReiser', 'Karla Kaun', 'Nan Rosemary Ke', 'Ellie Heckscher', 'Ulrike Boehm 🔬👩🏻\\u200d💻', 'Chelsea Finn', 'Elizabeth C. Gorski', 'Mai Morimoto', 'Ilana Witten', 'Anne Carpenter', 'Sara Beery', 'Megan Carey', 'Jane Wang', 'Marta Costa', 'Krystyna Keleman', 'Stephanie Albin', 'Doris Tsao', 'Emily Behrman', 'Christine Käser-Chen', 'Devi Parikh', 'Jen Heemstra', 'Salma Elmalaki', 'renan ozturk', 'Edith Zimmerman', 'Naomi Saphra', 'Elizabeth Hillman', 'Virginie Uhlmann', 'Claire Deo', 'eugenia chiappe', 'Grace Vesom', 'Alice Oh', 'Dawn Song', 'Adrienne Fairhall', 'Nate Silver', 'Jewel Burks Solomon', 'Nadine Gogolla', 'Leslie Vosshall PhD', 'Jeannette Bohg', 'Sarah Certel', 'Erin LeDell', 'Jenn Wortman Vaughan', 'Ann Kennedy', 'Janelle Shane', 'Cori Bargmann', 'Athena Akrami']\n",
      "Male samples:\n",
      "['mark cembrowski', 'Nando de Freitas', 'jeremy freeman', 'Ken Jennings', 'Jonathan Pillow', 'Peter', 'Marius Pachitariu', 'Raphael Turcotte', 'karel svoboda', 'Oisin Mac Aodha', 'Sasha DiGiulian', 'David Cho', 'Andrew Saxe', 'Misha Denil', 'Yann LeCun', 'Jeff Dean (@🏡)', 'Greg Jefferis', 'Martin Jones', 'Adam J Calhoun', 'Andrew Fitzgibbon', 'Andrew S. Champion', 'Bill Gates', 'Gonzalo de Polavieja', 'Hugo Larochelle', 'Kaspar Podgorski', 'Daniel Gonzales', 'Sandeep Robert Datta', 'Mike Economo', 'Matt Gritzmacher', 'Il Memming Park', 'Stephen Holtz', 'Barack Obama', 'John Hodgman', 'John Bogovic', 'Sebastian Seung', 'Noah Snavely', 'Ed Yong', 'Erich Jarvis', 'Rex Parker⚾️🐘🐘🐘⚾️', 'Stephan Saalfeld', 'Lior Pachter', 'Trace Henry', 'Ryan North', 'David Schoppik', 'Daniel Jiwoong Im', 'Frank', 'Sasha Rush', 'Fred \"Replace Trump Now\" Wolf', 'Jesse Marshall', 'Benjamin de Bivort']\n"
     ]
    }
   ],
   "source": [
    "sampleids = list(map(lambda x: myinfo['idsknown'][x],idxsample))\n",
    "samplenames = list(map(lambda x: myinfo['namesknown'][x],idxsample))\n",
    "print('Female samples:')\n",
    "print(samplenames[:nsample_female])\n",
    "print('Male samples:')\n",
    "print(samplenames[nsample_female:])"
   ]
  },
  {
   "cell_type": "code",
   "execution_count": 10,
   "metadata": {},
   "outputs": [
    {
     "name": "stdout",
     "output_type": "stream",
     "text": [
      "samplei = 0, sample = 152, id = 207665930\n",
      "samplei = 1, sample = 200, id = 1359059238\n",
      "samplei = 2, sample = 194, id = 19563103\n",
      "samplei = 3, sample = 167, id = 1890694861\n",
      "samplei = 4, sample = 182, id = 731538535795163136\n",
      "samplei = 5, sample = 15, id = 737478121079906304\n",
      "samplei = 6, sample = 19, id = 178588367\n",
      "samplei = 7, sample = 183, id = 345129453\n",
      "samplei = 8, sample = 174, id = 35269421\n",
      "samplei = 9, sample = 118, id = 2369329526\n",
      "samplei = 10, sample = 92, id = 2577596593\n",
      "samplei = 11, sample = 31, id = 217852227\n",
      "samplei = 12, sample = 173, id = 1237734334385344512\n",
      "samplei = 13, sample = 87, id = 3318332379\n",
      "samplei = 14, sample = 4, id = 1431348835\n",
      "samplei = 15, sample = 156, id = 1237147828704575488\n",
      "samplei = 16, sample = 192, id = 36819554\n",
      "samplei = 17, sample = 27, id = 22385548\n",
      "samplei = 18, sample = 155, id = 908902292\n",
      "samplei = 19, sample = 73, id = 875432666555965444\n",
      "samplei = 20, sample = 124, id = 3072541911\n",
      "samplei = 21, sample = 178, id = 788467623629500416\n",
      "samplei = 22, sample = 126, id = 2389878942\n",
      "samplei = 23, sample = 94, id = 843706252517502977\n",
      "samplei = 24, sample = 105, id = 45675087\n",
      "samplei = 25, sample = 20, id = 2704715387\n",
      "samplei = 26, sample = 115, id = 246226577\n",
      "samplei = 27, sample = 197, id = 43406294\n",
      "samplei = 28, sample = 106, id = 19087450\n",
      "samplei = 29, sample = 195, id = 215113195\n",
      "samplei = 30, sample = 158, id = 979697205664800768\n",
      "samplei = 31, sample = 52, id = 959028649528840192\n",
      "samplei = 32, sample = 121, id = 870108900128903169\n",
      "samplei = 33, sample = 50, id = 2405083879\n",
      "samplei = 34, sample = 23, id = 25320089\n",
      "samplei = 35, sample = 146, id = 16520284\n",
      "samplei = 36, sample = 185, id = 535136727\n",
      "samplei = 37, sample = 143, id = 842164502422417409\n",
      "samplei = 38, sample = 83, id = 16017475\n",
      "samplei = 39, sample = 13, id = 159315527\n",
      "samplei = 40, sample = 151, id = 822090549490499585\n",
      "samplei = 41, sample = 67, id = 28912478\n",
      "samplei = 42, sample = 153, id = 869862586610851840\n",
      "samplei = 43, sample = 37, id = 700532262165676033\n",
      "samplei = 44, sample = 148, id = 21828411\n",
      "samplei = 45, sample = 111, id = 2869101210\n",
      "samplei = 46, sample = 72, id = 1143074659291680768\n",
      "samplei = 47, sample = 181, id = 2460047754\n",
      "samplei = 48, sample = 65, id = 276643081\n",
      "samplei = 49, sample = 88, id = 1035389878605885440\n",
      "samplei = 50, sample = 123, id = 828056721750896640\n",
      "samplei = 51, sample = 36, id = 29843511\n",
      "samplei = 52, sample = 138, id = 261789755\n",
      "samplei = 53, sample = 177, id = 234270825\n",
      "samplei = 54, sample = 56, id = 190138220\n",
      "samplei = 55, sample = 132, id = 27648853\n",
      "samplei = 56, sample = 130, id = 433741920\n",
      "samplei = 57, sample = 129, id = 769978990706720768\n",
      "samplei = 58, sample = 133, id = 780291008\n",
      "samplei = 59, sample = 86, id = 1033383109440356352\n",
      "samplei = 60, sample = 164, id = 128781736\n",
      "samplei = 61, sample = 107, id = 1014691\n",
      "samplei = 62, sample = 169, id = 1193222240202035200\n",
      "samplei = 63, sample = 33, id = 197684961\n",
      "samplei = 64, sample = 0, id = 48008938\n",
      "samplei = 65, sample = 10, id = 911297187664949248\n",
      "samplei = 66, sample = 60, id = 172101003\n",
      "samplei = 67, sample = 53, id = 56786888\n",
      "samplei = 68, sample = 22, id = 636023721\n",
      "samplei = 69, sample = 12, id = 53514472\n",
      "samplei = 70, sample = 51, id = 19301221\n",
      "samplei = 71, sample = 168, id = 50393960\n",
      "samplei = 72, sample = 145, id = 149895490\n",
      "samplei = 73, sample = 35, id = 3333052551\n",
      "samplei = 74, sample = 141, id = 1026931440280391687\n",
      "samplei = 75, sample = 101, id = 3111733301\n",
      "samplei = 76, sample = 41, id = 1400517288\n",
      "samplei = 77, sample = 122, id = 938416059962609665\n",
      "samplei = 78, sample = 144, id = 223734352\n",
      "samplei = 79, sample = 58, id = 16055364\n",
      "samplei = 80, sample = 188, id = 51582812\n",
      "samplei = 81, sample = 157, id = 813286\n",
      "samplei = 82, sample = 93, id = 14348594\n",
      "samplei = 83, sample = 43, id = 2848165007\n",
      "samplei = 84, sample = 66, id = 122080635\n",
      "samplei = 85, sample = 89, id = 15035863\n",
      "samplei = 86, sample = 142, id = 19767193\n",
      "samplei = 87, sample = 84, id = 314158631\n",
      "samplei = 88, sample = 30, id = 14230012\n",
      "samplei = 89, sample = 38, id = 930090512\n",
      "samplei = 90, sample = 180, id = 31936449\n",
      "samplei = 91, sample = 69, id = 33362653\n",
      "samplei = 92, sample = 79, id = 14162415\n",
      "samplei = 93, sample = 76, id = 221304470\n",
      "samplei = 94, sample = 190, id = 809072402282016768\n",
      "samplei = 95, sample = 166, id = 2847954257\n",
      "samplei = 96, sample = 179, id = 4558314927\n",
      "samplei = 97, sample = 77, id = 22445339\n",
      "samplei = 98, sample = 71, id = 57663013\n",
      "samplei = 99, sample = 25, id = 259568572\n"
     ]
    }
   ],
   "source": [
    "# get names of their following\n",
    "batchsize = 100\n",
    "names1 = []\n",
    "for samplei in range(len(names1),len(idxsample)):\n",
    "    sample = idxsample[samplei]\n",
    "    id = myinfo['idsknown'][sample]\n",
    "    print('samplei = %d, sample = %d, id = %d'%(samplei,sample,id))\n",
    "    namescurr,idscurr = get_following_names(id,api,ids1=ids1[samplei])\n",
    "    names1.append(namescurr)\n",
    "    ids1.append(idscurr)\n"
   ]
  },
  {
   "cell_type": "code",
   "execution_count": 11,
   "metadata": {},
   "outputs": [],
   "source": [
    "# compute gender ratio info\n",
    "otherinfo = []\n",
    "for i in range(len(names1)):\n",
    "    #print('i = %d: %s -> first name = %s'%(i,sample_user_objs[i].name,names1[i][0]))\n",
    "    otherinfo.append(compute_gender_info(names1[i],ids=ids1[i],verbose=False,sigma=sigma))\n",
    "    "
   ]
  },
  {
   "cell_type": "code",
   "execution_count": 59,
   "metadata": {},
   "outputs": [
    {
     "name": "stdout",
     "output_type": "stream",
     "text": [
      "My percentile among women I follow: 48.000000\n",
      "My percentile among men I follow: 60.000000\n",
      "My percentile among people I follow: 54.000000\n"
     ]
    },
    {
     "data": {
      "text/plain": [
       "MannwhitneyuResult(statistic=1463.0, pvalue=0.07146909115821613)"
      ]
     },
     "execution_count": 59,
     "metadata": {},
     "output_type": "execute_result"
    },
    {
     "data": {
      "image/png": "[encoded data removed]",
      "text/plain": [
       "<Figure size 432x288 with 1 Axes>"
      ]
     },
     "metadata": {
      "needs_background": "light"
     },
     "output_type": "display_data"
    }
   ],
   "source": [
    "# plot a histogram of frac female following for samples and for me\n",
    "nbins = 25\n",
    "# choose some colors\n",
    "colors = list(mcolors.TABLEAU_COLORS)\n",
    "colorf = colors[0]\n",
    "colorm = colors[1]\n",
    "\n",
    "fracfemale_f = np.zeros(nsample)\n",
    "fracfemale_m = np.zeros(nsample)\n",
    "for i in range(nsample):\n",
    "    if len(otherinfo[i]['fracfemale']) == 0:\n",
    "        fracfemale_f[i] = np.nan\n",
    "        print('Bad sample %d'%i)\n",
    "    else:\n",
    "        fracfemale_f[i] = otherinfo[i]['fracfemale'][-1]\n",
    "    if len(otherinfo[i+nsample]['fracfemale']) == 0:\n",
    "        fracfemale_m[i] = np.nan\n",
    "        print('Bad sample %d'%i+nsameple)\n",
    "    else:\n",
    "        fracfemale_m[i] = otherinfo[i+nsample]['fracfemale'][-1]\n",
    "\n",
    "edges = np.linspace(0,max(np.amax(fracfemale_f),np.amax(fracfemale_m)),nbins+1)\n",
    "width = edges[1]-edges[0]\n",
    "\n",
    "myprctile_f = np.count_nonzero(fracfemale_f<=myinfo['fracfemale'][-1])/nsample\n",
    "myprctile_m = np.count_nonzero(fracfemale_m<=myinfo['fracfemale'][-1])/nsample\n",
    "print('My percentile among women I follow: %f'%(myprctile_f*100.))\n",
    "print('My percentile among men I follow: %f'%(myprctile_m*100.))\n",
    "print('My percentile among people I follow: %f'%((myprctile_f+myprctile_m)*50.))\n",
    "\n",
    "counts_f,edges = np.histogram(fracfemale_f,bins=25,range=(0,.6))\n",
    "counts_m,edges = np.histogram(fracfemale_m,bins=25,range=(0,.6))\n",
    "ctrs = (edges[1:]+edges[:-1])/2.\n",
    "normcounts_f = counts_f / np.sum(counts_f)\n",
    "normcounts_m = counts_m / np.sum(counts_m)\n",
    "plt.bar(ctrs+width/5.,normcounts_f,width=width*.35,color=colorf,label='Female')\n",
    "plt.bar(ctrs-width/5.,normcounts_m,width=width*.35,color=colorm,label='Male')\n",
    "ylim = plt.gca().get_ylim()\n",
    "plt.plot([myinfo['fracfemale'][-1]]*2,ylim,'k-',lw=3,label='Me')\n",
    "plt.gca().set_ylim(ylim)\n",
    "plt.legend()\n",
    "plt.xlabel('Fraction female')\n",
    "plt.ylabel('Number of users')\n",
    "plt.title('Gender ratio for people I follow on Twitter')\n",
    "\n",
    "stats.mannwhitneyu(fracfemale_f,fracfemale_m,alternative='greater')\n"
   ]
  },
  {
   "cell_type": "code",
   "execution_count": 54,
   "metadata": {},
   "outputs": [
    {
     "name": "stdout",
     "output_type": "stream",
     "text": [
      "anonymous female: 0.125000\n",
      "anonymous female: 0.225000\n",
      "anonymous female: 0.511530\n",
      "anonymous female: 0.215789\n",
      "anonymous female: 0.378406\n",
      "anonymous female: 0.501348\n",
      "anonymous female: 0.416149\n",
      "anonymous mostly_female: 0.138889\n",
      "anonymous female: 0.441558\n",
      "anonymous female: 0.353933\n",
      "anonymous female: 0.207547\n",
      "anonymous female: 0.392573\n",
      "anonymous female: 0.371681\n",
      "anonymous female: 0.390187\n",
      "anonymous female: 0.384189\n",
      "anonymous female: 0.428571\n",
      "anonymous female: 0.403200\n",
      "anonymous female: 0.187739\n",
      "anonymous female: 0.315789\n",
      "anonymous female: 0.244275\n",
      "anonymous female: 0.436782\n",
      "anonymous female: 0.314286\n",
      "anonymous female: 0.375000\n",
      "anonymous female: 0.301887\n",
      "anonymous female: 0.246377\n",
      "anonymous female: 0.529982\n",
      "anonymous female: 0.373134\n",
      "anonymous female: 0.211765\n",
      "anonymous female: 0.466387\n",
      "anonymous female: 0.286614\n",
      "anonymous female: 0.367188\n",
      "anonymous female: 0.272727\n",
      "anonymous female: 0.298701\n",
      "anonymous female: 0.298319\n",
      "anonymous female: 0.560000\n",
      "anonymous female: 0.266272\n",
      "anonymous female: 0.189555\n",
      "anonymous female: 0.320000\n",
      "anonymous female: 0.220106\n",
      "anonymous mostly_female: 0.397608\n",
      "anonymous female: 0.437624\n",
      "anonymous mostly_female: 0.485623\n",
      "anonymous female: 0.375887\n",
      "anonymous female: 0.337349\n",
      "anonymous mostly_female: 0.508062\n",
      "anonymous female: 0.396761\n",
      "anonymous female: 0.261905\n",
      "anonymous female: 0.529750\n",
      "anonymous female: 0.250564\n",
      "anonymous female: 0.303419\n",
      "anonymous male: 0.384354\n",
      "anonymous male: 0.175573\n",
      "anonymous male: 0.365979\n",
      "anonymous male: 0.290488\n",
      "anonymous male: 0.374847\n",
      "anonymous male: 0.334895\n",
      "anonymous male: 0.294118\n",
      "anonymous male: 0.260870\n",
      "anonymous male: 0.242038\n",
      "anonymous male: 0.220000\n",
      "anonymous mostly_male: 0.406528\n",
      "anonymous male: 0.354430\n",
      "anonymous male: 0.206667\n",
      "anonymous male: 0.147766\n",
      "anonymous male: 0.103627\n",
      "anonymous male: 0.368471\n",
      "anonymous male: 0.373606\n",
      "anonymous male: 0.497532\n",
      "anonymous male: 0.335294\n",
      "anonymous male: 0.290909\n",
      "anonymous male: 0.197080\n",
      "anonymous male: 0.319149\n",
      "anonymous male: 0.222798\n",
      "anonymous male: 0.259843\n",
      "anonymous male: 0.271429\n",
      "anonymous male: 0.468051\n",
      "anonymous mostly_male: 0.254682\n",
      "anonymous male: 0.227642\n",
      "anonymous male: 0.307167\n",
      "anonymous mostly_male: 0.264907\n",
      "anonymous male: 0.270208\n",
      "anonymous male: 0.586977\n",
      "anonymous male: 0.438017\n",
      "anonymous male: 0.291667\n",
      "anonymous male: 0.322222\n",
      "anonymous male: 0.277778\n",
      "anonymous male: 0.516053\n",
      "anonymous male: 0.447674\n",
      "anonymous male: 0.553846\n",
      "anonymous male: 0.183486\n",
      "anonymous male: 0.381894\n",
      "anonymous male: 0.191310\n",
      "anonymous mostly_male: 0.357522\n",
      "anonymous male: 0.409836\n",
      "anonymous male: 0.246291\n",
      "anonymous male: 0.379747\n",
      "anonymous mostly_male: 0.209302\n",
      "anonymous male: 0.370968\n",
      "anonymous male: 0.217391\n",
      "anonymous male: 0.376359\n"
     ]
    }
   ],
   "source": [
    "# get info about following\n",
    "anonymize = True\n",
    "samplenames = list(map(lambda x: myinfo['namesknown'][x],idxsample))\n",
    "samplegenders = list(map(lambda x: myinfo['gsknown'][x],idxsample))\n",
    "\n",
    "for i in range(len(samplenames)):\n",
    "    if anonymize:\n",
    "        if len(otherinfo[i]['fracfemale']) == 0:\n",
    "            print('anonymous %s: not following anyone'%(samplegenders[i]))\n",
    "        else:\n",
    "            print('anonymous %s: %f'%(samplegenders[i],otherinfo[i]['fracfemale'][-1]))\n",
    "    else:\n",
    "        if len(otherinfo[i]['fracfemale']) == 0:\n",
    "            print('%s (%s): not following anyone'%(samplenames[i],samplegenders[i]))\n",
    "        else:\n",
    "            print('%s (%s): %f'%(samplenames[i],samplegenders[i],otherinfo[i]['fracfemale'][-1]))"
   ]
  },
  {
   "cell_type": "code",
   "execution_count": 43,
   "metadata": {},
   "outputs": [
    {
     "name": "stdout",
     "output_type": "stream",
     "text": [
      "[0.5 1.  0.5]\n"
     ]
    },
    {
     "data": {
      "text/plain": [
       "<matplotlib.legend.Legend at 0x19671d86888>"
      ]
     },
     "execution_count": 43,
     "metadata": {},
     "output_type": "execute_result"
    },
    {
     "data": {
      "image/png": "[encoded data removed]",
      "text/plain": [
       "<Figure size 432x288 with 1 Axes>"
      ]
     },
     "metadata": {
      "needs_background": "light"
     },
     "output_type": "display_data"
    }
   ],
   "source": [
    "# plot stats of samples and me\n",
    "maxl = 1000\n",
    "dointerp = True # whether to plot absolute following number or fraction of following\n",
    "doplotprctiles = True\n",
    "allusers_fracfemale = 0.39 # https://www.statista.com/statistics/828092/distribution-of-users-on-twitter-worldwide-gender/\n",
    "\n",
    "Y = np.zeros((len(otherinfo),maxl))\n",
    "Y[:] = np.nan\n",
    "counts = np.zeros((1,maxl))\n",
    "xinterp = np.linspace(0, 1, maxl)\n",
    "for i in range(0,len(otherinfo)):\n",
    "    y = otherinfo[i]['fracfemale_filtered'][3*sigma:-3*sigma]\n",
    "    if dointerp:\n",
    "        x = np.linspace(0,1,y.shape[0])\n",
    "        f = interpolate.interp1d(x,y,axis=0)\n",
    "        yinterp = f(xinterp)\n",
    "        Y[i,:] = yinterp\n",
    "    else:\n",
    "        l = min(len(y),maxl)\n",
    "        Y[i,:l] = y[:l]\n",
    "        \n",
    "idxfemale = np.arange(0,nsample)\n",
    "idxmale = np.arange(nsample,2*nsample)\n",
    "\n",
    "prctiles_compute = np.array([25,50,75])\n",
    "middlei, = np.where(prctiles_compute==50)\n",
    "middlei = middlei[0]\n",
    "prctiles_female = np.percentile(Y[idxfemale,:],prctiles_compute,axis=0)\n",
    "prctiles_male = np.percentile(Y[idxmale,:],prctiles_compute,axis=0)\n",
    "\n",
    "mu_female = np.nanmean(Y[idxfemale,:],axis=0)\n",
    "mu_male = np.nanmean(Y[idxmale,:],axis=0)\n",
    "sig_female = np.nanstd(Y[idxfemale,:],axis=0)\n",
    "sig_male = np.nanstd(Y[idxmale,:],axis=0)\n",
    "counts_female = np.sum(np.isnan(Y[idxfemale,:])==False,axis=0)\n",
    "counts_male = np.sum(np.isnan(Y[idxmale,:])==False,axis=0)\n",
    "stderr_female = sig_female / np.sqrt(counts_female)\n",
    "stderr_male = sig_male / np.sqrt(counts_male)\n",
    "if dointerp:\n",
    "    x = xinterp\n",
    "else:\n",
    "    x = np.arange(maxl)\n",
    "\n",
    "if doplotprctiles:\n",
    "    alpha = (1.-np.abs(50.-np.array(prctiles_compute))/50.)\n",
    "    print(alpha)\n",
    "    for i in range(prctiles_compute.shape[0]//2):\n",
    "        plt.fill_between(x, prctiles_female[i,:], prctiles_female[-i-1,:],alpha=alpha[i],lw=0,color=colorf)\n",
    "        plt.fill_between(x, prctiles_male[i,:], prctiles_male[-i-1,:],alpha=alpha[i],lw=0,color=colorm)\n",
    "    hf, = plt.plot(x,prctiles_female[middlei,:],'-',linewidth=3,color=colorf,label='Female')\n",
    "    hm, = plt.plot(x,prctiles_male[middlei,:],'-',linewidth=3,color=colorm,label='Male')\n",
    "else:\n",
    "\n",
    "    # plot mean and standard error\n",
    "    plt.plot(x,mu_female-sig_female,'-',color=colorf)\n",
    "    plt.plot(x,mu_female+sig_female,'-',color=colorf)\n",
    "    hf, = plt.plot(x,mu_female,'-',color=colorf,linewidth=3,label='Female')\n",
    "    plt.plot(x,mu_male-sig_male,'-',color=colorm)\n",
    "    plt.plot(x,mu_male+sig_male,'-',color=colorm)\n",
    "    hm, = plt.plot(x,mu_male,'-',color=colorm,linewidth=3,label='Male')\n",
    "\n",
    "y = myinfo['fracfemale_filtered'][3*sigma:-3*sigma]\n",
    "if dointerp:\n",
    "    x = np.linspace(0,1,y.shape[0])\n",
    "    f = interpolate.interp1d(x,y,axis=0)\n",
    "    yinterp = f(xinterp)\n",
    "    hme, = plt.plot(xinterp,yinterp,'k-',linewidth=5,label='Me')\n",
    "    plt.plot([0.,1.],[allusers_fracfemale]*2,'-',color=[.6,.6,.6],lw=3)\n",
    "else:\n",
    "    hme, = plt.plot(y,'k-',linewidth=5,label='Me')\n",
    "    plt.plot([0.,len(y)],[allusers_fracfemale]*2,'-',color=[.6,.6,.6],lw=3)\n",
    "plt.ylabel('Fraction female')\n",
    "plt.xlabel('Something related to time')\n",
    "plt.title('Gender ratio for people I follow on Twitter')\n",
    "plt.legend()"
   ]
  },
  {
   "cell_type": "code",
   "execution_count": 44,
   "metadata": {},
   "outputs": [],
   "source": [
    "import pickle\n",
    "filename = 'C:/Code/TwitterGenderRatio/test20200510.pickle'\n",
    "fid = open(filename,'wb')\n",
    "pickle.dump({'ids': ids, 'names': names,'idxsample': idxsample, 'names1': names1, 'ids1': ids1},fid)\n",
    "fid.close()"
   ]
  }
 ],
 "metadata": {
  "kernelspec": {
   "display_name": "Python 3",
   "language": "python",
   "name": "python3"
  },
  "language_info": {
   "codemirror_mode": {
    "name": "ipython",
    "version": 3
   },
   "file_extension": ".py",
   "mimetype": "text/x-python",
   "name": "python",
   "nbconvert_exporter": "python",
   "pygments_lexer": "ipython3",
   "version": "3.7.7"
  }
 },
 "nbformat": 4,
 "nbformat_minor": 4
}
